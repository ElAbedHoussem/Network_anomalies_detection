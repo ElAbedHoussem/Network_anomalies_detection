{
 "cells": [
  {
   "cell_type": "code",
   "execution_count": 48,
   "metadata": {},
   "outputs": [],
   "source": [
    "import keras \n",
    "from keras import optimizers\n",
    "from keras import losses\n",
    "from keras.models import Sequential,Model\n",
    "from keras.layers import Dense,Input,Dropout,Embedding,LSTM\n",
    "from keras.optimizers import RMSprop,Adam,Nadam\n",
    "from keras.preprocessing import sequence \n",
    "from keras.callbacks import TensorBoard,CSVLogger\n",
    "from keras.utils import plot_model\n",
    "\n",
    "import sklearn\n",
    "from sklearn.preprocessing import StandardScaler,MinMaxScaler\n",
    "from sklearn.model_selection import train_test_split\n",
    "from sklearn.metrics import accuracy_score,precision_score, recall_score, f1_score\n",
    "from sklearn.utils import shuffle\n",
    "\n",
    "import pickle \n",
    "\n",
    "import seaborn as sns\n",
    "import pandas as pd \n",
    "import numpy as np\n",
    "import matplotlib.pyplot as plt\n",
    "import matplotlib.gridspec as gridspec\n",
    "\n",
    "import tensorflow\n",
    "import time \n",
    "import sys"
   ]
  },
  {
   "cell_type": "code",
   "execution_count": 49,
   "metadata": {},
   "outputs": [],
   "source": [
    "# Visualisation class\n",
    "class Visualization:\n",
    "    \n",
    "    labels=[\"Normal\",\"Anomaly\"]\n",
    "    \n",
    "    def drow_confusion_matrix(self,y,ypred):\n",
    "        matrix=confusion_matrix(y,ypred)\n",
    "        plt.figure(figsize=(15,10))\n",
    "        colors=[\"indianred\",\"lightseagreen\"]\n",
    "        sns.heatmap(matrix,xticklabels=self.labels,yticklabels=self.labels,cmap=colors,annot=True,fmt=\"d\")\n",
    "        plt.title(\"confusion Matrix\")\n",
    "        plt.ylabel('Actual')\n",
    "        plt.xlabel(\"Predicted\")\n",
    "        plt.show()\n",
    "    \n",
    "    \n",
    "    def drow_anomaly(self,y,error,threshold):\n",
    "        groupsDF=pd.DataFrame({\n",
    "            \"error\":error,\n",
    "            \"true\":y\n",
    "        }).groupby(\"true\")\n",
    "        \n",
    "        figure , axes= plt.subplots(figsize=(12,8))\n",
    "        for name,group in groupsDF:\n",
    "            axes.plot(\n",
    "                      group.index,group.error,marker=\"x\" if name == 1 else \"o\",linestyle='',\n",
    "                      color='r' if name==1 else \"teal\" , label=\"Anomaly\" if name==1 else \"Normal\"\n",
    "                     )\n",
    "            \n",
    "        axes.hlines(threshold,axes.get_xlim()[0],axes.get_xlim()[1],color=\"b\",zorder=100,label='Thershold')\n",
    "        axes.legend()\n",
    "        plt.title(\"Anomalie\")\n",
    "        plt.xlabel(\"Data\")\n",
    "        plt.ylabel(\"Error\")\n",
    "        plt.show()\n",
    "            \n",
    "    \n",
    "    def drow_error(self,error,threshold):\n",
    "        plt.plot(error,marker=\"o\",ms=3.5,linestyle=\"\",label=\"Point\")\n",
    "        plt.hlines(threshold,xmin=0,xmax=len(error)-1,colors=\"b\",zorder=100,label=\"Threshold\")\n",
    "        plt.legend()\n",
    "        plt.title(\"Reconstruction Error\")\n",
    "        plt.ylabel(\"Error\")\n",
    "        plt.xlabel(\"Data\")\n",
    "        plt.show()\n",
    "        \n",
    "            "
   ]
  },
  {
   "cell_type": "code",
   "execution_count": 50,
   "metadata": {},
   "outputs": [],
   "source": [
    "df =pd.read_csv(\"../../data/full_data_small_datased.csv\")"
   ]
  },
  {
   "cell_type": "code",
   "execution_count": 51,
   "metadata": {},
   "outputs": [
    {
     "data": {
      "text/plain": [
       "(40395, 237665)"
      ]
     },
     "execution_count": 51,
     "metadata": {},
     "output_type": "execute_result"
    }
   ],
   "source": [
    "len(df[df[\"Class\"]==0]),len(df[df[\"Class\"]==1])"
   ]
  },
  {
   "cell_type": "code",
   "execution_count": 52,
   "metadata": {},
   "outputs": [],
   "source": [
    "def transformer_df(df):\n",
    "    dic={}\n",
    "    for c in df.columns :\n",
    "        if (df[c].dtype ==\"object\"):\n",
    "            encoder = LabelEncoder()\n",
    "            encoder.fit(df[c])\n",
    "            df[c]=encoder.transform(df[c])\n",
    "            dic[c]=encoder\n",
    "    with open(\"./models/LabelEncoders_dic.pickle\",\"wb\") as f:\n",
    "        pickle.dump(dic,f)\n",
    "    return df"
   ]
  },
  {
   "cell_type": "code",
   "execution_count": 53,
   "metadata": {},
   "outputs": [],
   "source": [
    "def shuffle_dataframe(df):\n",
    "    df = shuffle(df)\n",
    "    return df"
   ]
  },
  {
   "cell_type": "code",
   "execution_count": 54,
   "metadata": {},
   "outputs": [],
   "source": [
    "def normaliser_all_columns(df):\n",
    "    diction={}\n",
    "    \n",
    "    for c in df.columns :\n",
    "        scaler=MinMaxScaler(feature_range=(0,1)).fit(df[c].values.reshape(-1,1))\n",
    "        diction[c]=scaler        \n",
    "        df[c]=scaler.transform(df[c].values.reshape(-1,1))\n",
    "    with open(\"./models/MinMaxScalers_dic.pickle\",\"wb\") as f:\n",
    "        pickle.dump(diction,f)\n",
    "    return df"
   ]
  },
  {
   "cell_type": "code",
   "execution_count": 55,
   "metadata": {},
   "outputs": [],
   "source": [
    "df=transformer_df(df)\n",
    "df=normaliser_all_columns(df)\n",
    "df=shuffle_dataframe(df)"
   ]
  },
  {
   "cell_type": "code",
   "execution_count": 56,
   "metadata": {},
   "outputs": [],
   "source": [
    "xtrain,xtest,ytrain,ytest=train_test_split(df.drop(labels=[\"Class\"],axis=1),df[\"Class\"],test_size=0.2)"
   ]
  },
  {
   "cell_type": "code",
   "execution_count": 57,
   "metadata": {},
   "outputs": [],
   "source": [
    "def create_ae(input_dim):\n",
    "    \n",
    "    dae_input=Input(shape=(input_dim,)) #Define the input layer\n",
    "    \n",
    "    encoded= Dense(units=input_dim,activation=\"tanh\")(dae_input) \n",
    "    encoded= Dense(units=int(input_dim/2),activation=\"tanh\")(encoded) \n",
    "    encoded= Dense(units=int(input_dim/4),activation=\"tanh\")(encoded)\n",
    "    encoded= Dense(units=int(input_dim/8),activation=\"tanh\")(encoded)\n",
    "    encoded= Dense(units=10,activation=\"tanh\")(encoded)\n",
    "    encoded= Dense(units=3,activation=\"tanh\")(encoded)\n",
    "    encoded= Dense(units=int(input_dim/8),activation=\"tanh\")(encoded)\n",
    "    decoded= Dense(units=int(input_dim/4),activation=\"tanh\")(encoded)\n",
    "    decoded= Dense(units=int(input_dim/2),activation=\"tanh\")(decoded)\n",
    "    decoded= Dense(units=input_dim,activation=\"tanh\")(decoded)\n",
    "    decoded= Dense(units=input_dim,activation=\"softmax\",name='decoded')(decoded) #softmax return a vector of probabilty describing the importance of each attribute \n",
    "    autoecoder=Model(dae_input,decoded)# the input layer and the output layer \n",
    "    autoecoder.summary()\n",
    "    autoecoder.compile(optimizer=RMSprop(),loss=\"mean_squared_error\",metrics=[\"mae\"])\n",
    "    plot_model(autoecoder,to_file='ae.png',show_shapes=True)\n",
    "    return autoecoder"
   ]
  },
  {
   "cell_type": "code",
   "execution_count": 58,
   "metadata": {},
   "outputs": [
    {
     "name": "stdout",
     "output_type": "stream",
     "text": [
      "Model: \"model_2\"\n",
      "_________________________________________________________________\n",
      "Layer (type)                 Output Shape              Param #   \n",
      "=================================================================\n",
      "input_2 (InputLayer)         (None, 115)               0         \n",
      "_________________________________________________________________\n",
      "dense_11 (Dense)             (None, 115)               13340     \n",
      "_________________________________________________________________\n",
      "dense_12 (Dense)             (None, 57)                6612      \n",
      "_________________________________________________________________\n",
      "dense_13 (Dense)             (None, 28)                1624      \n",
      "_________________________________________________________________\n",
      "dense_14 (Dense)             (None, 14)                406       \n",
      "_________________________________________________________________\n",
      "dense_15 (Dense)             (None, 10)                150       \n",
      "_________________________________________________________________\n",
      "dense_16 (Dense)             (None, 3)                 33        \n",
      "_________________________________________________________________\n",
      "dense_17 (Dense)             (None, 14)                56        \n",
      "_________________________________________________________________\n",
      "dense_18 (Dense)             (None, 28)                420       \n",
      "_________________________________________________________________\n",
      "dense_19 (Dense)             (None, 57)                1653      \n",
      "_________________________________________________________________\n",
      "dense_20 (Dense)             (None, 115)               6670      \n",
      "_________________________________________________________________\n",
      "decoded (Dense)              (None, 115)               13340     \n",
      "=================================================================\n",
      "Total params: 44,304\n",
      "Trainable params: 44,304\n",
      "Non-trainable params: 0\n",
      "_________________________________________________________________\n"
     ]
    }
   ],
   "source": [
    "autoecoder = create_ae(xtrain.shape[1])"
   ]
  },
  {
   "cell_type": "code",
   "execution_count": 59,
   "metadata": {
    "scrolled": true
   },
   "outputs": [
    {
     "name": "stdout",
     "output_type": "stream",
     "text": [
      "Train on 222448 samples, validate on 55612 samples\n",
      "Epoch 1/10\n",
      "222448/222448 [==============================] - 6s 27us/step - loss: 0.2767 - mae: 0.3582 - val_loss: 0.2766 - val_mae: 0.3581\n",
      "Epoch 2/10\n",
      "222448/222448 [==============================] - 6s 26us/step - loss: 0.2766 - mae: 0.3581 - val_loss: 0.2766 - val_mae: 0.3581\n",
      "Epoch 3/10\n",
      "222448/222448 [==============================] - 6s 28us/step - loss: 0.2766 - mae: 0.3581 - val_loss: 0.2766 - val_mae: 0.3581\n",
      "Epoch 4/10\n",
      "222448/222448 [==============================] - 8s 34us/step - loss: 0.2766 - mae: 0.3581 - val_loss: 0.2766 - val_mae: 0.3581\n",
      "Epoch 5/10\n",
      "222448/222448 [==============================] - 9s 40us/step - loss: 0.2761 - mae: 0.3581 - val_loss: 0.2760 - val_mae: 0.3581\n",
      "Epoch 6/10\n",
      "222448/222448 [==============================] - 6s 29us/step - loss: 0.2761 - mae: 0.3581 - val_loss: 0.2760 - val_mae: 0.3581\n",
      "Epoch 7/10\n",
      "222448/222448 [==============================] - 7s 34us/step - loss: 0.2761 - mae: 0.3581 - val_loss: 0.2760 - val_mae: 0.3581\n",
      "Epoch 8/10\n",
      "222448/222448 [==============================] - 7s 30us/step - loss: 0.2761 - mae: 0.3581 - val_loss: 0.2760 - val_mae: 0.3581\n",
      "Epoch 9/10\n",
      "222448/222448 [==============================] - 6s 29us/step - loss: 0.2761 - mae: 0.3581 - val_loss: 0.2760 - val_mae: 0.3581\n",
      "Epoch 10/10\n",
      "222448/222448 [==============================] - 8s 34us/step - loss: 0.2761 - mae: 0.3581 - val_loss: 0.2760 - val_mae: 0.3581\n",
      "--- 69.85973381996155 seconds ---\n"
     ]
    }
   ],
   "source": [
    "batchsize=100\n",
    "epoch=10\n",
    "start_time = time.time() \n",
    "autoecoder.fit(xtrain,xtrain,\n",
    "              batch_size=batchsize,\n",
    "              epochs=epoch,\n",
    "              verbose=1,\n",
    "              shuffle=True,\n",
    "              validation_data=(xtest,xtest),\n",
    "              callbacks=[TensorBoard(log_dir=\"../logs/autoencoder\")])\n",
    "print(\"--- %s seconds ---\" % (time.time() - start_time))"
   ]
  },
  {
   "cell_type": "code",
   "execution_count": 60,
   "metadata": {},
   "outputs": [
    {
     "name": "stdout",
     "output_type": "stream",
     "text": [
      "The tensorboard extension is already loaded. To reload it, use:\n",
      "  %reload_ext tensorboard\n"
     ]
    },
    {
     "data": {
      "text/plain": [
       "Reusing TensorBoard on port 6007 (pid 4291), started 2:07:43 ago. (Use '!kill 4291' to kill it.)"
      ]
     },
     "metadata": {},
     "output_type": "display_data"
    },
    {
     "data": {
      "text/html": [
       "\n",
       "      <iframe id=\"tensorboard-frame-1ddacb6b5eec295e\" width=\"100%\" height=\"800\" frameborder=\"0\">\n",
       "      </iframe>\n",
       "      <script>\n",
       "        (function() {\n",
       "          const frame = document.getElementById(\"tensorboard-frame-1ddacb6b5eec295e\");\n",
       "          const url = new URL(\"/\", window.location);\n",
       "          url.port = 6007;\n",
       "          frame.src = url;\n",
       "        })();\n",
       "      </script>\n",
       "  "
      ],
      "text/plain": [
       "<IPython.core.display.HTML object>"
      ]
     },
     "metadata": {},
     "output_type": "display_data"
    }
   ],
   "source": [
    "%load_ext tensorboard\n",
    "%tensorboard --logdir {\"../logs/autoencoder/\"}"
   ]
  },
  {
   "cell_type": "markdown",
   "metadata": {},
   "source": [
    "### View the avrage length distribution of normal data"
   ]
  },
  {
   "cell_type": "code",
   "execution_count": 61,
   "metadata": {},
   "outputs": [
    {
     "data": {
      "image/png": "[encoded data removed]",
      "text/plain": [
       "<Figure size 1080x720 with 1 Axes>"
      ]
     },
     "metadata": {
      "needs_background": "light"
     },
     "output_type": "display_data"
    }
   ],
   "source": [
    "normal_data=df[df[\"Class\"]==0].drop(\"Class\",axis=1)\n",
    "y_pred=autoecoder.predict(normal_data)\n",
    "y_dist=np.linalg.norm(normal_data-y_pred,axis=-1)\n",
    "\n",
    "plt.figure(figsize=(15,10))\n",
    "plt.hist(y_dist,bins=200)\n",
    "plt.xlabel(\"Normal Data Average Loss Length\")\n",
    "plt.ylabel(\"Number of data points\")\n",
    "plt.show()"
   ]
  },
  {
   "cell_type": "markdown",
   "metadata": {},
   "source": [
    "### View the avrage length distribution of anomalie data"
   ]
  },
  {
   "cell_type": "code",
   "execution_count": 62,
   "metadata": {},
   "outputs": [
    {
     "data": {
      "image/png": "[encoded data removed]",
      "text/plain": [
       "<Figure size 1080x720 with 1 Axes>"
      ]
     },
     "metadata": {
      "needs_background": "light"
     },
     "output_type": "display_data"
    }
   ],
   "source": [
    "anomalie_data=df[df[\"Class\"]==1].drop(\"Class\",axis=1)\n",
    "y_pred=autoecoder.predict(anomalie_data)  \n",
    "y_dist=np.linalg.norm(anomalie_data-y_pred,axis=-1) \n",
    "plt.figure(figsize=(15,10))\n",
    "plt.hist(y_dist,bins=200)\n",
    "plt.xlabel(\"Anomaly DataAverage Loss Length\")\n",
    "plt.ylabel(\"Number of data points\")\n",
    "plt.show()"
   ]
  },
  {
   "cell_type": "code",
   "execution_count": 63,
   "metadata": {},
   "outputs": [
    {
     "data": {
      "image/png": "[encoded data removed]",
      "text/plain": [
       "<Figure size 1080x720 with 1 Axes>"
      ]
     },
     "metadata": {
      "needs_background": "light"
     },
     "output_type": "display_data"
    }
   ],
   "source": [
    "y_pred=autoecoder.predict(xtest) # predict new data \n",
    "y_dist=np.linalg.norm(xtest-y_pred,axis=-1) # calculate distance between real  and predicted data\n",
    "plt.figure(figsize=(15,10))\n",
    "plt.hist(y_dist,bins=200)\n",
    "plt.xlabel(\"Anomaly DataAverage Loss Length\")\n",
    "plt.ylabel(\"Number of data points\")\n",
    "plt.show()"
   ]
  },
  {
   "cell_type": "markdown",
   "metadata": {},
   "source": [
    "## we see that all the anamalies data are more then 1.5 average length loss\n",
    "## as a conclusion we will make the 1.5 as our average loss threshold"
   ]
  },
  {
   "cell_type": "code",
   "execution_count": 81,
   "metadata": {},
   "outputs": [],
   "source": [
    "def prediction(xtest):\n",
    "    threshold=2.8 \n",
    "    start_time = time.time() \n",
    "    y_pred=autoecoder.predict(xtest) \n",
    "    print(\"--- %s seconds ---\" % (time.time() - start_time))    \n",
    "    y_dist=np.linalg.norm(xtest-y_pred,axis=-1) \n",
    "    z=zip(y_dist >= threshold , y_dist) \n",
    "    y_label=[]\n",
    "    error=[]\n",
    "    for idx ,(is_anomaly , y_dist) in enumerate(z):\n",
    "        if is_anomaly : # if the value is True : which mean the distance is sup then the threshold \n",
    "            y_label.append(1)\n",
    "        else:\n",
    "            y_label.append(0)\n",
    "        error.append(y_dist)\n",
    "    return y_label"
   ]
  },
  {
   "cell_type": "code",
   "execution_count": 82,
   "metadata": {},
   "outputs": [
    {
     "name": "stdout",
     "output_type": "stream",
     "text": [
      "--- 0.574420690536499 seconds ---\n"
     ]
    }
   ],
   "source": [
    "y_pred=prediction(xtest)"
   ]
  },
  {
   "cell_type": "code",
   "execution_count": 83,
   "metadata": {},
   "outputs": [
    {
     "name": "stdout",
     "output_type": "stream",
     "text": [
      "              precision    recall  f1-score   support\n",
      "\n",
      "           0       1.00      1.00      1.00      8004\n",
      "           1       1.00      1.00      1.00     47608\n",
      "\n",
      "    accuracy                           1.00     55612\n",
      "   macro avg       1.00      1.00      1.00     55612\n",
      "weighted avg       1.00      1.00      1.00     55612\n",
      "\n"
     ]
    }
   ],
   "source": [
    "print(sklearn.metrics.classification_report(ytest,y_pred))"
   ]
  },
  {
   "cell_type": "code",
   "execution_count": 84,
   "metadata": {},
   "outputs": [
    {
     "name": "stdout",
     "output_type": "stream",
     "text": [
      "precision_score : 0.9997122566015973\n",
      "accuracy_score : 0.999712292311012\n",
      "recall_score : 0.999712292311012\n",
      "f1_score : 0.9997122324696014\n",
      "roc_auc_score : 0.9992083650663326\n",
      "True_positive : 47604, False_positive : 12, True_negative : 7992, False_negative : 4\n"
     ]
    }
   ],
   "source": [
    "ytest = ytest.astype(int)\n",
    "print('precision_score : '+str(precision_score(ytest, y_pred, average='weighted')))\n",
    "print('accuracy_score : '+str(accuracy_score(ytest, y_pred)))\n",
    "print('recall_score : '+str(recall_score(ytest, y_pred, average='weighted')))\n",
    "print('f1_score : '+str(f1_score(ytest, y_pred, average='weighted')))\n",
    "print('roc_auc_score : '+str(roc_auc_score(ytest,y_pred))) \n",
    "tn, fp, fn, tp = confusion_matrix(ytest, y_pred).ravel()\n",
    "print('True_positive : '+str(tp)+', False_positive : '+str(fp)+', True_negative : '+str(tn)+', False_negative : '+str(fn))"
   ]
  },
  {
   "cell_type": "code",
   "execution_count": 85,
   "metadata": {},
   "outputs": [],
   "source": [
    "viz=Visualization()"
   ]
  },
  {
   "cell_type": "code",
   "execution_count": 86,
   "metadata": {},
   "outputs": [
    {
     "data": {
      "image/png": "[encoded data removed]",
      "text/plain": [
       "<Figure size 1080x720 with 2 Axes>"
      ]
     },
     "metadata": {
      "needs_background": "light"
     },
     "output_type": "display_data"
    }
   ],
   "source": [
    "viz.drow_confusion_matrix(ytest,y_pred)"
   ]
  },
  {
   "cell_type": "code",
   "execution_count": 87,
   "metadata": {},
   "outputs": [],
   "source": [
    "autoecoder.save(\"./models/ae.h5\")"
   ]
  }
 ],
 "metadata": {
  "kernelspec": {
   "display_name": "myenv",
   "language": "python",
   "name": "myenv"
  },
  "language_info": {
   "codemirror_mode": {
    "name": "ipython",
    "version": 3
   },
   "file_extension": ".py",
   "mimetype": "text/x-python",
   "name": "python",
   "nbconvert_exporter": "python",
   "pygments_lexer": "ipython3",
   "version": "3.8.2"
  }
 },
 "nbformat": 4,
 "nbformat_minor": 4
}
