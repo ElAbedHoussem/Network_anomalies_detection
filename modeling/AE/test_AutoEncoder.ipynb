{
 "cells": [
  {
   "cell_type": "code",
   "execution_count": 65,
   "metadata": {},
   "outputs": [],
   "source": [
    "# load and evaluate a saved model\n",
    "from numpy import loadtxt\n",
    "from keras.models import load_model\n",
    "import pickle\n",
    "import pandas as pd \n",
    "import numpy as np\n",
    "import time "
   ]
  },
  {
   "cell_type": "code",
   "execution_count": 75,
   "metadata": {},
   "outputs": [
    {
     "name": "stdout",
     "output_type": "stream",
     "text": [
      "Model: \"model_2\"\n",
      "_________________________________________________________________\n",
      "Layer (type)                 Output Shape              Param #   \n",
      "=================================================================\n",
      "input_2 (InputLayer)         (None, 115)               0         \n",
      "_________________________________________________________________\n",
      "dense_11 (Dense)             (None, 115)               13340     \n",
      "_________________________________________________________________\n",
      "dense_12 (Dense)             (None, 57)                6612      \n",
      "_________________________________________________________________\n",
      "dense_13 (Dense)             (None, 28)                1624      \n",
      "_________________________________________________________________\n",
      "dense_14 (Dense)             (None, 14)                406       \n",
      "_________________________________________________________________\n",
      "dense_15 (Dense)             (None, 10)                150       \n",
      "_________________________________________________________________\n",
      "dense_16 (Dense)             (None, 3)                 33        \n",
      "_________________________________________________________________\n",
      "dense_17 (Dense)             (None, 14)                56        \n",
      "_________________________________________________________________\n",
      "dense_18 (Dense)             (None, 28)                420       \n",
      "_________________________________________________________________\n",
      "dense_19 (Dense)             (None, 57)                1653      \n",
      "_________________________________________________________________\n",
      "dense_20 (Dense)             (None, 115)               6670      \n",
      "_________________________________________________________________\n",
      "decoded (Dense)              (None, 115)               13340     \n",
      "=================================================================\n",
      "Total params: 44,304\n",
      "Trainable params: 44,304\n",
      "Non-trainable params: 0\n",
      "_________________________________________________________________\n"
     ]
    }
   ],
   "source": [
    "#load model\n",
    "model = load_model(\"./models/ae.h5\")\n",
    "# summarize model.\n",
    "model.summary()\n",
    "with open(\"./models/LabelEncoders_dic.pickle\",\"rb\") as f:\n",
    "    encoder_dic=pickle.load(f)\n",
    "with open(\"./models/MinMaxScalers_dic.pickle\",\"rb\") as f:\n",
    "    scaler_dic=pickle.load(f)"
   ]
  },
  {
   "cell_type": "code",
   "execution_count": 76,
   "metadata": {},
   "outputs": [],
   "source": [
    "def transformer_df(df):\n",
    "    for c in df.columns :\n",
    "        if (df[c].dtype ==\"object\"):\n",
    "            encoder = encoder_dic[c]\n",
    "            df[c]=encoder.transform(df[c])\n",
    "    return df"
   ]
  },
  {
   "cell_type": "code",
   "execution_count": 77,
   "metadata": {},
   "outputs": [],
   "source": [
    "def normaliser_all_columns(df):\n",
    "    for c in df.columns :\n",
    "        df[c]=scaler_dic[c].transform(df[c].values.reshape(-1,1))\n",
    "    return df"
   ]
  },
  {
   "cell_type": "code",
   "execution_count": 78,
   "metadata": {},
   "outputs": [],
   "source": [
    "df =pd.read_csv(\"../../data/full_data_small_datased.csv\")"
   ]
  },
  {
   "cell_type": "code",
   "execution_count": 88,
   "metadata": {},
   "outputs": [
    {
     "data": {
      "text/html": [
       "<div>\n",
       "<style scoped>\n",
       "    .dataframe tbody tr th:only-of-type {\n",
       "        vertical-align: middle;\n",
       "    }\n",
       "\n",
       "    .dataframe tbody tr th {\n",
       "        vertical-align: top;\n",
       "    }\n",
       "\n",
       "    .dataframe thead th {\n",
       "        text-align: right;\n",
       "    }\n",
       "</style>\n",
       "<table border=\"1\" class=\"dataframe\">\n",
       "  <thead>\n",
       "    <tr style=\"text-align: right;\">\n",
       "      <th></th>\n",
       "      <th>Class</th>\n",
       "      <th>HH_L0.01_covariance</th>\n",
       "      <th>HH_L0.01_magnitude</th>\n",
       "      <th>HH_L0.01_mean</th>\n",
       "      <th>HH_L0.01_pcc</th>\n",
       "      <th>HH_L0.01_radius</th>\n",
       "      <th>HH_L0.01_std</th>\n",
       "      <th>HH_L0.01_weight</th>\n",
       "      <th>HH_L0.1_covariance</th>\n",
       "      <th>HH_L0.1_magnitude</th>\n",
       "      <th>...</th>\n",
       "      <th>MI_dir_L0.1_weight</th>\n",
       "      <th>MI_dir_L1_mean</th>\n",
       "      <th>MI_dir_L1_variance</th>\n",
       "      <th>MI_dir_L1_weight</th>\n",
       "      <th>MI_dir_L3_mean</th>\n",
       "      <th>MI_dir_L3_variance</th>\n",
       "      <th>MI_dir_L3_weight</th>\n",
       "      <th>MI_dir_L5_mean</th>\n",
       "      <th>MI_dir_L5_variance</th>\n",
       "      <th>MI_dir_L5_weight</th>\n",
       "    </tr>\n",
       "  </thead>\n",
       "  <tbody>\n",
       "    <tr>\n",
       "      <th>0</th>\n",
       "      <td>0.0</td>\n",
       "      <td>0.0</td>\n",
       "      <td>60.0</td>\n",
       "      <td>60.0</td>\n",
       "      <td>0.0</td>\n",
       "      <td>0.0</td>\n",
       "      <td>0.0</td>\n",
       "      <td>1.0</td>\n",
       "      <td>0.0</td>\n",
       "      <td>60.0</td>\n",
       "      <td>...</td>\n",
       "      <td>1.0</td>\n",
       "      <td>60.0</td>\n",
       "      <td>0.0</td>\n",
       "      <td>1.0</td>\n",
       "      <td>60.0</td>\n",
       "      <td>0.0</td>\n",
       "      <td>1.0</td>\n",
       "      <td>60.0</td>\n",
       "      <td>0.0</td>\n",
       "      <td>1.0</td>\n",
       "    </tr>\n",
       "  </tbody>\n",
       "</table>\n",
       "<p>1 rows × 116 columns</p>\n",
       "</div>"
      ],
      "text/plain": [
       "   Class  HH_L0.01_covariance  HH_L0.01_magnitude  HH_L0.01_mean  \\\n",
       "0    0.0                  0.0                60.0           60.0   \n",
       "\n",
       "   HH_L0.01_pcc  HH_L0.01_radius  HH_L0.01_std  HH_L0.01_weight  \\\n",
       "0           0.0              0.0           0.0              1.0   \n",
       "\n",
       "   HH_L0.1_covariance  HH_L0.1_magnitude  ...  MI_dir_L0.1_weight  \\\n",
       "0                 0.0               60.0  ...                 1.0   \n",
       "\n",
       "   MI_dir_L1_mean  MI_dir_L1_variance  MI_dir_L1_weight  MI_dir_L3_mean  \\\n",
       "0            60.0                 0.0               1.0            60.0   \n",
       "\n",
       "   MI_dir_L3_variance  MI_dir_L3_weight  MI_dir_L5_mean  MI_dir_L5_variance  \\\n",
       "0                 0.0               1.0            60.0                 0.0   \n",
       "\n",
       "   MI_dir_L5_weight  \n",
       "0               1.0  \n",
       "\n",
       "[1 rows x 116 columns]"
      ]
     },
     "execution_count": 88,
     "metadata": {},
     "output_type": "execute_result"
    }
   ],
   "source": [
    "test_df = pd.DataFrame()\n",
    "test_df = test_df.append(df.iloc[0])\n",
    "test_df.head()"
   ]
  },
  {
   "cell_type": "code",
   "execution_count": 89,
   "metadata": {},
   "outputs": [],
   "source": [
    "target = test_df.Class"
   ]
  },
  {
   "cell_type": "code",
   "execution_count": 90,
   "metadata": {},
   "outputs": [],
   "source": [
    "x_test = test_df.drop(['Class'],axis=1)"
   ]
  },
  {
   "cell_type": "code",
   "execution_count": 91,
   "metadata": {},
   "outputs": [],
   "source": [
    "x_test=transformer_df(x_test)\n",
    "x_test=normaliser_all_columns(x_test)"
   ]
  },
  {
   "cell_type": "code",
   "execution_count": 92,
   "metadata": {},
   "outputs": [],
   "source": [
    "y_pred=model.predict([x_test]) "
   ]
  },
  {
   "cell_type": "code",
   "execution_count": 95,
   "metadata": {},
   "outputs": [],
   "source": [
    "def prediction(xtest):\n",
    "    threshold=2.8 \n",
    "    start_time = time.time() \n",
    "    y_pred=model.predict(xtest) \n",
    "    print(\"--- %s seconds ---\" % (time.time() - start_time))    \n",
    "    y_dist=np.linalg.norm(xtest-y_pred,axis=-1) \n",
    "    z=zip(y_dist >= threshold , y_dist) \n",
    "    y_label=[]\n",
    "    error=[]\n",
    "    for idx ,(is_anomaly , y_dist) in enumerate(z):\n",
    "        if is_anomaly : # if the value is True : which mean the distance is sup then the threshold \n",
    "            y_label.append(1)\n",
    "        else:\n",
    "            y_label.append(0)\n",
    "        error.append(y_dist)\n",
    "    return y_label"
   ]
  },
  {
   "cell_type": "code",
   "execution_count": 96,
   "metadata": {},
   "outputs": [
    {
     "name": "stdout",
     "output_type": "stream",
     "text": [
      "--- 0.006682872772216797 seconds ---\n"
     ]
    }
   ],
   "source": [
    "y_pred=prediction(x_test)"
   ]
  },
  {
   "cell_type": "code",
   "execution_count": 99,
   "metadata": {},
   "outputs": [
    {
     "data": {
      "text/plain": [
       "0"
      ]
     },
     "execution_count": 99,
     "metadata": {},
     "output_type": "execute_result"
    }
   ],
   "source": [
    "y_pred[0]"
   ]
  }
 ],
 "metadata": {
  "kernelspec": {
   "display_name": "myenv",
   "language": "python",
   "name": "myenv"
  },
  "language_info": {
   "codemirror_mode": {
    "name": "ipython",
    "version": 3
   },
   "file_extension": ".py",
   "mimetype": "text/x-python",
   "name": "python",
   "nbconvert_exporter": "python",
   "pygments_lexer": "ipython3",
   "version": "3.8.2"
  }
 },
 "nbformat": 4,
 "nbformat_minor": 4
}
