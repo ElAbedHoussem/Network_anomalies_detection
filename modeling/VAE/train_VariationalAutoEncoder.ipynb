{
 "cells": [
  {
   "cell_type": "code",
   "execution_count": 30,
   "metadata": {},
   "outputs": [],
   "source": [
    "import keras \n",
    "from keras import optimizers\n",
    "from keras import losses\n",
    "from keras.models import Sequential,Model\n",
    "from keras.layers import Lambda ,Dense,Input,Dropout,Embedding,LSTM\n",
    "from keras.optimizers import RMSprop,Adam,Nadam\n",
    "from keras.preprocessing import sequence \n",
    "from keras.callbacks import TensorBoard\n",
    "from keras import backend as k\n",
    "from keras.losses import mse,binary_crossentropy\n",
    "\n",
    "from keras.utils import plot_model\n",
    "\n",
    "import sklearn\n",
    "from sklearn.preprocessing import StandardScaler,MinMaxScaler\n",
    "from sklearn.model_selection import train_test_split\n",
    "from sklearn.metrics import accuracy_score,precision_score, recall_score, f1_score\n",
    "from sklearn.metrics import confusion_matrix,roc_auc_score,classification_report\n",
    "import pickle \n",
    "\n",
    "\n",
    "import seaborn as sns\n",
    "import pandas as pd \n",
    "import numpy as np\n",
    "import matplotlib.pyplot as plt\n",
    "import matplotlib.gridspec as gridspec\n",
    "\n",
    "import tensorflow\n",
    "import time \n",
    "import sys\n"
   ]
  },
  {
   "cell_type": "code",
   "execution_count": 31,
   "metadata": {},
   "outputs": [],
   "source": [
    "# Visualisation class\n",
    "class Visualization:\n",
    "    \n",
    "    labels=[\"Normal\",\"Anomaly\"]\n",
    "    \n",
    "    def drow_confusion_matrix(self,y,ypred):\n",
    "        matrix=confusion_matrix(y,ypred)\n",
    "        plt.figure(figsize=(15,10))\n",
    "        colors=[\"indianred\",\"lightseagreen\"]\n",
    "        sns.heatmap(matrix,xticklabels=self.labels,yticklabels=self.labels,cmap=colors,annot=True,fmt=\"d\")\n",
    "        plt.title(\"confusion Matrix\")\n",
    "        plt.ylabel('Actual')\n",
    "        plt.xlabel(\"Predicted\")\n",
    "        plt.show()\n",
    "    \n",
    "    \n",
    "    def drow_anomaly(self,y,error,threshold):\n",
    "        groupsDF=pd.DataFrame({\n",
    "            \"error\":error,\n",
    "            \"true\":y\n",
    "        }).groupby(\"true\")\n",
    "        \n",
    "        figure , axes= plt.subplots(figsize=(12,8))\n",
    "        for name,group in groupsDF:\n",
    "            axes.plot(\n",
    "                      group.index,group.error,marker=\"x\" if name == 1 else \"o\",linestyle='',\n",
    "                      color='r' if name==1 else \"teal\" , label=\"Anomaly\" if name==1 else \"Normal\"\n",
    "                     )\n",
    "            \n",
    "        axes.hlines(threshold,axes.get_xlim()[0],axes.get_xlim()[1],color=\"b\",zorder=100,label='Thershold')\n",
    "        axes.legend()\n",
    "        plt.title(\"Anomalie\")\n",
    "        plt.xlabel(\"Data\")\n",
    "        plt.ylabel(\"Error\")\n",
    "        plt.show()\n",
    "            \n",
    "    \n",
    "    def drow_error(self,error,threshold):\n",
    "        plt.plot(error,marker=\"o\",ms=3.5,linestyle=\"\",label=\"Point\")\n",
    "        plt.hlines(threshold,xmin=0,xmax=len(error)-1,colors=\"b\",zorder=100,label=\"Threshold\")\n",
    "        plt.legend()\n",
    "        plt.title(\"Reconstruction Error\")\n",
    "        plt.ylabel(\"Error\")\n",
    "        plt.xlabel(\"Data\")\n",
    "        plt.show()\n",
    "        \n",
    "            "
   ]
  },
  {
   "cell_type": "code",
   "execution_count": 32,
   "metadata": {},
   "outputs": [],
   "source": [
    "def transformer_df(df):\n",
    "    dic={}\n",
    "    for c in df.columns :\n",
    "        if (df[c].dtype ==\"object\"):\n",
    "            encoder = LabelEncoder()\n",
    "            encoder.fit(df[c])\n",
    "            df[c]=encoder.transform(df[c])\n",
    "            dic[c]=encoder\n",
    "    with open(\"./models/LabelEncoders_dic.pickle\",\"wb\") as f:\n",
    "        pickle.dump(dic,f)\n",
    "    return df"
   ]
  },
  {
   "cell_type": "code",
   "execution_count": 33,
   "metadata": {},
   "outputs": [],
   "source": [
    "from sklearn.utils import shuffle\n",
    "def shuffle_dataframe(df):\n",
    "    df = shuffle(df)\n",
    "    return df"
   ]
  },
  {
   "cell_type": "code",
   "execution_count": 34,
   "metadata": {},
   "outputs": [],
   "source": [
    "def normaliser_all_columns(df):\n",
    "    diction={}\n",
    "    for c in df.columns :\n",
    "        scaler=MinMaxScaler(feature_range=(0,1)).fit(df[c].values.reshape(-1,1))\n",
    "        diction[c]=scaler        \n",
    "        df[c]=scaler.transform(df[c].values.reshape(-1,1))\n",
    "    with open(\"./models/MinMaxScalers_dic.pickle\",\"wb\") as f:\n",
    "        pickle.dump(diction,f)\n",
    "    return df"
   ]
  },
  {
   "cell_type": "code",
   "execution_count": 35,
   "metadata": {},
   "outputs": [],
   "source": [
    "df =pd.read_csv(\"../../data/full_data_small_datased.csv\")"
   ]
  },
  {
   "cell_type": "code",
   "execution_count": 36,
   "metadata": {},
   "outputs": [],
   "source": [
    "df_anomaly=df.query(\"Class==1\")"
   ]
  },
  {
   "cell_type": "code",
   "execution_count": 37,
   "metadata": {},
   "outputs": [],
   "source": [
    "df_normal=df.query(\"Class==0\")"
   ]
  },
  {
   "cell_type": "code",
   "execution_count": 38,
   "metadata": {},
   "outputs": [
    {
     "data": {
      "text/plain": [
       "(40395, 237665)"
      ]
     },
     "execution_count": 38,
     "metadata": {},
     "output_type": "execute_result"
    }
   ],
   "source": [
    "len(df_normal),len(df_anomaly)"
   ]
  },
  {
   "cell_type": "code",
   "execution_count": 39,
   "metadata": {},
   "outputs": [],
   "source": [
    "df=pd.concat([df_normal,df_anomaly])"
   ]
  },
  {
   "cell_type": "code",
   "execution_count": 40,
   "metadata": {},
   "outputs": [],
   "source": [
    "df=transformer_df(df)\n",
    "df=normaliser_all_columns(df)\n",
    "df=shuffle_dataframe(df)"
   ]
  },
  {
   "cell_type": "code",
   "execution_count": 41,
   "metadata": {},
   "outputs": [
    {
     "data": {
      "text/html": [
       "<div>\n",
       "<style scoped>\n",
       "    .dataframe tbody tr th:only-of-type {\n",
       "        vertical-align: middle;\n",
       "    }\n",
       "\n",
       "    .dataframe tbody tr th {\n",
       "        vertical-align: top;\n",
       "    }\n",
       "\n",
       "    .dataframe thead th {\n",
       "        text-align: right;\n",
       "    }\n",
       "</style>\n",
       "<table border=\"1\" class=\"dataframe\">\n",
       "  <thead>\n",
       "    <tr style=\"text-align: right;\">\n",
       "      <th></th>\n",
       "      <th>MI_dir_L5_weight</th>\n",
       "      <th>MI_dir_L5_mean</th>\n",
       "      <th>MI_dir_L5_variance</th>\n",
       "      <th>MI_dir_L3_weight</th>\n",
       "      <th>MI_dir_L3_mean</th>\n",
       "      <th>MI_dir_L3_variance</th>\n",
       "      <th>MI_dir_L1_weight</th>\n",
       "      <th>MI_dir_L1_mean</th>\n",
       "      <th>MI_dir_L1_variance</th>\n",
       "      <th>MI_dir_L0.1_weight</th>\n",
       "      <th>...</th>\n",
       "      <th>HpHp_L0.1_covariance</th>\n",
       "      <th>HpHp_L0.1_pcc</th>\n",
       "      <th>HpHp_L0.01_weight</th>\n",
       "      <th>HpHp_L0.01_mean</th>\n",
       "      <th>HpHp_L0.01_std</th>\n",
       "      <th>HpHp_L0.01_magnitude</th>\n",
       "      <th>HpHp_L0.01_radius</th>\n",
       "      <th>HpHp_L0.01_covariance</th>\n",
       "      <th>HpHp_L0.01_pcc</th>\n",
       "      <th>Class</th>\n",
       "    </tr>\n",
       "  </thead>\n",
       "  <tbody>\n",
       "    <tr>\n",
       "      <th>120809</th>\n",
       "      <td>0.343327</td>\n",
       "      <td>0.894726</td>\n",
       "      <td>0.416172</td>\n",
       "      <td>0.439697</td>\n",
       "      <td>0.855455</td>\n",
       "      <td>0.633874</td>\n",
       "      <td>6.707291e-01</td>\n",
       "      <td>0.867228</td>\n",
       "      <td>8.276363e-01</td>\n",
       "      <td>0.939117</td>\n",
       "      <td>...</td>\n",
       "      <td>0.142669</td>\n",
       "      <td>0.156084</td>\n",
       "      <td>0.000000</td>\n",
       "      <td>1.000000e+00</td>\n",
       "      <td>0.000000e+00</td>\n",
       "      <td>7.865587e-01</td>\n",
       "      <td>0.000000e+00</td>\n",
       "      <td>0.135729</td>\n",
       "      <td>0.148615</td>\n",
       "      <td>1.0</td>\n",
       "    </tr>\n",
       "    <tr>\n",
       "      <th>209436</th>\n",
       "      <td>0.185609</td>\n",
       "      <td>0.456741</td>\n",
       "      <td>0.990106</td>\n",
       "      <td>0.292536</td>\n",
       "      <td>0.603225</td>\n",
       "      <td>0.982618</td>\n",
       "      <td>5.687946e-01</td>\n",
       "      <td>0.791952</td>\n",
       "      <td>9.167190e-01</td>\n",
       "      <td>0.908481</td>\n",
       "      <td>...</td>\n",
       "      <td>0.142669</td>\n",
       "      <td>0.156084</td>\n",
       "      <td>0.000000</td>\n",
       "      <td>4.163336e-17</td>\n",
       "      <td>0.000000e+00</td>\n",
       "      <td>2.775558e-17</td>\n",
       "      <td>0.000000e+00</td>\n",
       "      <td>0.135729</td>\n",
       "      <td>0.148615</td>\n",
       "      <td>1.0</td>\n",
       "    </tr>\n",
       "    <tr>\n",
       "      <th>270495</th>\n",
       "      <td>0.472166</td>\n",
       "      <td>0.342295</td>\n",
       "      <td>0.894015</td>\n",
       "      <td>0.513234</td>\n",
       "      <td>0.465958</td>\n",
       "      <td>0.983915</td>\n",
       "      <td>6.733301e-01</td>\n",
       "      <td>0.714320</td>\n",
       "      <td>9.765076e-01</td>\n",
       "      <td>0.929145</td>\n",
       "      <td>...</td>\n",
       "      <td>0.142669</td>\n",
       "      <td>0.156084</td>\n",
       "      <td>0.000000</td>\n",
       "      <td>1.000000e+00</td>\n",
       "      <td>0.000000e+00</td>\n",
       "      <td>7.865587e-01</td>\n",
       "      <td>0.000000e+00</td>\n",
       "      <td>0.135729</td>\n",
       "      <td>0.148615</td>\n",
       "      <td>1.0</td>\n",
       "    </tr>\n",
       "    <tr>\n",
       "      <th>27172</th>\n",
       "      <td>0.000000</td>\n",
       "      <td>0.078029</td>\n",
       "      <td>0.000000</td>\n",
       "      <td>0.000000</td>\n",
       "      <td>0.081995</td>\n",
       "      <td>0.000000</td>\n",
       "      <td>1.901148e-09</td>\n",
       "      <td>0.093898</td>\n",
       "      <td>3.901701e-08</td>\n",
       "      <td>0.000229</td>\n",
       "      <td>...</td>\n",
       "      <td>0.142669</td>\n",
       "      <td>0.156084</td>\n",
       "      <td>0.418642</td>\n",
       "      <td>7.692308e-02</td>\n",
       "      <td>2.291854e-08</td>\n",
       "      <td>1.251376e-01</td>\n",
       "      <td>2.361729e-16</td>\n",
       "      <td>0.135729</td>\n",
       "      <td>0.148615</td>\n",
       "      <td>0.0</td>\n",
       "    </tr>\n",
       "    <tr>\n",
       "      <th>209061</th>\n",
       "      <td>0.470903</td>\n",
       "      <td>0.648164</td>\n",
       "      <td>0.922741</td>\n",
       "      <td>0.529294</td>\n",
       "      <td>0.731267</td>\n",
       "      <td>0.861547</td>\n",
       "      <td>6.703436e-01</td>\n",
       "      <td>0.844917</td>\n",
       "      <td>8.571440e-01</td>\n",
       "      <td>0.921148</td>\n",
       "      <td>...</td>\n",
       "      <td>0.142669</td>\n",
       "      <td>0.156084</td>\n",
       "      <td>0.000000</td>\n",
       "      <td>4.163336e-17</td>\n",
       "      <td>0.000000e+00</td>\n",
       "      <td>2.775558e-17</td>\n",
       "      <td>0.000000e+00</td>\n",
       "      <td>0.135729</td>\n",
       "      <td>0.148615</td>\n",
       "      <td>1.0</td>\n",
       "    </tr>\n",
       "  </tbody>\n",
       "</table>\n",
       "<p>5 rows × 116 columns</p>\n",
       "</div>"
      ],
      "text/plain": [
       "        MI_dir_L5_weight  MI_dir_L5_mean  MI_dir_L5_variance  \\\n",
       "120809          0.343327        0.894726            0.416172   \n",
       "209436          0.185609        0.456741            0.990106   \n",
       "270495          0.472166        0.342295            0.894015   \n",
       "27172           0.000000        0.078029            0.000000   \n",
       "209061          0.470903        0.648164            0.922741   \n",
       "\n",
       "        MI_dir_L3_weight  MI_dir_L3_mean  MI_dir_L3_variance  \\\n",
       "120809          0.439697        0.855455            0.633874   \n",
       "209436          0.292536        0.603225            0.982618   \n",
       "270495          0.513234        0.465958            0.983915   \n",
       "27172           0.000000        0.081995            0.000000   \n",
       "209061          0.529294        0.731267            0.861547   \n",
       "\n",
       "        MI_dir_L1_weight  MI_dir_L1_mean  MI_dir_L1_variance  \\\n",
       "120809      6.707291e-01        0.867228        8.276363e-01   \n",
       "209436      5.687946e-01        0.791952        9.167190e-01   \n",
       "270495      6.733301e-01        0.714320        9.765076e-01   \n",
       "27172       1.901148e-09        0.093898        3.901701e-08   \n",
       "209061      6.703436e-01        0.844917        8.571440e-01   \n",
       "\n",
       "        MI_dir_L0.1_weight  ...  HpHp_L0.1_covariance  HpHp_L0.1_pcc  \\\n",
       "120809            0.939117  ...              0.142669       0.156084   \n",
       "209436            0.908481  ...              0.142669       0.156084   \n",
       "270495            0.929145  ...              0.142669       0.156084   \n",
       "27172             0.000229  ...              0.142669       0.156084   \n",
       "209061            0.921148  ...              0.142669       0.156084   \n",
       "\n",
       "        HpHp_L0.01_weight  HpHp_L0.01_mean  HpHp_L0.01_std  \\\n",
       "120809           0.000000     1.000000e+00    0.000000e+00   \n",
       "209436           0.000000     4.163336e-17    0.000000e+00   \n",
       "270495           0.000000     1.000000e+00    0.000000e+00   \n",
       "27172            0.418642     7.692308e-02    2.291854e-08   \n",
       "209061           0.000000     4.163336e-17    0.000000e+00   \n",
       "\n",
       "        HpHp_L0.01_magnitude  HpHp_L0.01_radius  HpHp_L0.01_covariance  \\\n",
       "120809          7.865587e-01       0.000000e+00               0.135729   \n",
       "209436          2.775558e-17       0.000000e+00               0.135729   \n",
       "270495          7.865587e-01       0.000000e+00               0.135729   \n",
       "27172           1.251376e-01       2.361729e-16               0.135729   \n",
       "209061          2.775558e-17       0.000000e+00               0.135729   \n",
       "\n",
       "        HpHp_L0.01_pcc  Class  \n",
       "120809        0.148615    1.0  \n",
       "209436        0.148615    1.0  \n",
       "270495        0.148615    1.0  \n",
       "27172         0.148615    0.0  \n",
       "209061        0.148615    1.0  \n",
       "\n",
       "[5 rows x 116 columns]"
      ]
     },
     "execution_count": 41,
     "metadata": {},
     "output_type": "execute_result"
    }
   ],
   "source": [
    "df.head()"
   ]
  },
  {
   "cell_type": "code",
   "execution_count": 42,
   "metadata": {},
   "outputs": [],
   "source": [
    "xtrain,xtest,ytrain,ytest=train_test_split(df.drop(labels=[\"Class\"],axis=1),df[\"Class\"],test_size=0.2)"
   ]
  },
  {
   "cell_type": "code",
   "execution_count": 43,
   "metadata": {},
   "outputs": [],
   "source": [
    "def sampling(args):\n",
    "    z_mean , z_log_var=args\n",
    "    batch=k.shape(z_mean)[0]\n",
    "    dim=k.int_shape(z_mean)[1]\n",
    "    \n",
    "    epsilon=k.random_normal(shape=(batch,dim))\n",
    "    return z_mean + k.exp(0.5 * z_log_var) * epsilon"
   ]
  },
  {
   "cell_type": "code",
   "execution_count": 44,
   "metadata": {},
   "outputs": [],
   "source": [
    "def create_variationalModel(original_dim):\n",
    "    input_shape=(original_dim,)\n",
    "    intermidiate_dim=58\n",
    "    batch_size=10\n",
    "    latent_dim=3\n",
    "    epochs=100\n",
    "\n",
    "    inputs=Input(shape=input_shape,name=\"encoder_input\")\n",
    "    x= Dense(units=original_dim,activation=\"tanh\")(inputs) \n",
    "    x= Dense(units=int(original_dim/2),activation=\"tanh\")(x) \n",
    "    x1= Dense(units=int(original_dim/4),activation=\"tanh\")(x) \n",
    "    x2= Dense(units=int(original_dim/8),activation=\"tanh\")(x1) \n",
    "    x3= Dense(units=10,activation=\"tanh\")(x2) \n",
    "    z_mean=Dense(latent_dim,name=\"z_mean\")(x3)\n",
    "    z_log_var=Dense(latent_dim,name=\"z_log_var\")(x3)\n",
    "\n",
    "    z=Lambda(sampling,output_shape=(latent_dim,),name=\"z\")([z_mean,z_log_var])\n",
    "\n",
    "\n",
    "    encoder=Model(inputs,[z_mean,z_log_var,z],name=\"encoder\")\n",
    "    encoder.summary()\n",
    "\n",
    "    latent_inputs=Input(shape=(latent_dim,),name=\"z_sampling\")\n",
    "    x= Dense(units=10,activation=\"tanh\")(latent_inputs) \n",
    "    x1=Dense(units=int(original_dim/8),activation=\"tanh\")(x)\n",
    "    x2=Dense(units=int(original_dim/4),activation=\"tanh\")(x1)\n",
    "    x3=Dense(units=int(original_dim/2),activation=\"tanh\")(x2)\n",
    "    x3=Dense(units=original_dim,activation=\"tanh\")(x3)\n",
    "    outputs=Dense(units=original_dim,activation=\"sigmoid\")(x3)\n",
    "\n",
    "    decoder=Model(latent_inputs,outputs,name=\"decoder\")\n",
    "    decoder.summary()\n",
    "\n",
    "\n",
    "    outputs=decoder(encoder(inputs)[2])\n",
    "    vae = Model(inputs,outputs,name=\"vae_mlp\")\n",
    "\n",
    "\n",
    "    reconstruction_loss=mse(inputs,outputs)\n",
    "    reconstruction_loss*=original_dim\n",
    "\n",
    "\n",
    "    kl_loss = 1 + z_log_var -k.square(z_mean) - k.exp(z_log_var)\n",
    "    kl_loss=k.sum(kl_loss,axis=-1)\n",
    "    kl_loss*=-0.5\n",
    "    vae_loss=k.mean(reconstruction_loss+kl_loss)\n",
    "    vae.add_loss(vae_loss)\n",
    "    plot_model(vae,to_file='vae.png',show_shapes=True)\n",
    "    vae.compile(optimizer=RMSprop(),loss=\"mean_squared_error\",metrics=[\"mae\"])\n",
    "    return vae"
   ]
  },
  {
   "cell_type": "code",
   "execution_count": 45,
   "metadata": {},
   "outputs": [
    {
     "name": "stdout",
     "output_type": "stream",
     "text": [
      "Model: \"encoder\"\n",
      "__________________________________________________________________________________________________\n",
      "Layer (type)                    Output Shape         Param #     Connected to                     \n",
      "==================================================================================================\n",
      "encoder_input (InputLayer)      (None, 115)          0                                            \n",
      "__________________________________________________________________________________________________\n",
      "dense_12 (Dense)                (None, 115)          13340       encoder_input[0][0]              \n",
      "__________________________________________________________________________________________________\n",
      "dense_13 (Dense)                (None, 57)           6612        dense_12[0][0]                   \n",
      "__________________________________________________________________________________________________\n",
      "dense_14 (Dense)                (None, 28)           1624        dense_13[0][0]                   \n",
      "__________________________________________________________________________________________________\n",
      "dense_15 (Dense)                (None, 14)           406         dense_14[0][0]                   \n",
      "__________________________________________________________________________________________________\n",
      "dense_16 (Dense)                (None, 10)           150         dense_15[0][0]                   \n",
      "__________________________________________________________________________________________________\n",
      "z_mean (Dense)                  (None, 3)            33          dense_16[0][0]                   \n",
      "__________________________________________________________________________________________________\n",
      "z_log_var (Dense)               (None, 3)            33          dense_16[0][0]                   \n",
      "__________________________________________________________________________________________________\n",
      "z (Lambda)                      (None, 3)            0           z_mean[0][0]                     \n",
      "                                                                 z_log_var[0][0]                  \n",
      "==================================================================================================\n",
      "Total params: 22,198\n",
      "Trainable params: 22,198\n",
      "Non-trainable params: 0\n",
      "__________________________________________________________________________________________________\n",
      "Model: \"decoder\"\n",
      "_________________________________________________________________\n",
      "Layer (type)                 Output Shape              Param #   \n",
      "=================================================================\n",
      "z_sampling (InputLayer)      (None, 3)                 0         \n",
      "_________________________________________________________________\n",
      "dense_17 (Dense)             (None, 10)                40        \n",
      "_________________________________________________________________\n",
      "dense_18 (Dense)             (None, 14)                154       \n",
      "_________________________________________________________________\n",
      "dense_19 (Dense)             (None, 28)                420       \n",
      "_________________________________________________________________\n",
      "dense_20 (Dense)             (None, 57)                1653      \n",
      "_________________________________________________________________\n",
      "dense_21 (Dense)             (None, 115)               6670      \n",
      "_________________________________________________________________\n",
      "dense_22 (Dense)             (None, 115)               13340     \n",
      "=================================================================\n",
      "Total params: 22,277\n",
      "Trainable params: 22,277\n",
      "Non-trainable params: 0\n",
      "_________________________________________________________________\n"
     ]
    }
   ],
   "source": [
    "vae=create_variationalModel(xtrain.shape[1])"
   ]
  },
  {
   "cell_type": "code",
   "execution_count": 46,
   "metadata": {},
   "outputs": [
    {
     "name": "stdout",
     "output_type": "stream",
     "text": [
      "Model: \"vae_mlp\"\n",
      "_________________________________________________________________\n",
      "Layer (type)                 Output Shape              Param #   \n",
      "=================================================================\n",
      "encoder_input (InputLayer)   (None, 115)               0         \n",
      "_________________________________________________________________\n",
      "encoder (Model)              [(None, 3), (None, 3), (N 22198     \n",
      "_________________________________________________________________\n",
      "decoder (Model)              (None, 115)               22277     \n",
      "=================================================================\n",
      "Total params: 44,475\n",
      "Trainable params: 44,475\n",
      "Non-trainable params: 0\n",
      "_________________________________________________________________\n"
     ]
    }
   ],
   "source": [
    "vae.summary()"
   ]
  },
  {
   "cell_type": "code",
   "execution_count": 47,
   "metadata": {},
   "outputs": [
    {
     "name": "stdout",
     "output_type": "stream",
     "text": [
      "Train on 222448 samples, validate on 55612 samples\n",
      "Epoch 1/10\n",
      "222448/222448 [==============================] - 7s 31us/step - loss: 2.4954 - mae: 0.0380 - val_loss: 2.0320 - val_mae: 0.0268\n",
      "Epoch 2/10\n",
      "222448/222448 [==============================] - 6s 29us/step - loss: 2.0562 - mae: 0.0269 - val_loss: 2.0487 - val_mae: 0.0263\n",
      "Epoch 3/10\n",
      "222448/222448 [==============================] - 6s 28us/step - loss: 2.0470 - mae: 0.0266 - val_loss: 2.0459 - val_mae: 0.0273\n",
      "Epoch 4/10\n",
      "222448/222448 [==============================] - 6s 29us/step - loss: 2.0379 - mae: 0.0265 - val_loss: 2.0418 - val_mae: 0.0270\n",
      "Epoch 5/10\n",
      "222448/222448 [==============================] - 6s 28us/step - loss: 2.0383 - mae: 0.0265 - val_loss: 2.0633 - val_mae: 0.0267\n",
      "Epoch 6/10\n",
      "222448/222448 [==============================] - 6s 28us/step - loss: 2.0473 - mae: 0.0266 - val_loss: 2.0573 - val_mae: 0.0268\n",
      "Epoch 7/10\n",
      "222448/222448 [==============================] - 6s 28us/step - loss: 2.0447 - mae: 0.0266 - val_loss: 2.0513 - val_mae: 0.0255\n",
      "Epoch 8/10\n",
      "222448/222448 [==============================] - 6s 29us/step - loss: 2.0439 - mae: 0.0265 - val_loss: 2.0315 - val_mae: 0.0258\n",
      "Epoch 9/10\n",
      "222448/222448 [==============================] - 7s 29us/step - loss: 2.0397 - mae: 0.0265 - val_loss: 2.0563 - val_mae: 0.0275\n",
      "Epoch 10/10\n",
      "222448/222448 [==============================] - 7s 31us/step - loss: 2.0418 - mae: 0.0266 - val_loss: 2.0210 - val_mae: 0.0267\n",
      "--- 65.65351009368896 seconds ---\n"
     ]
    }
   ],
   "source": [
    "#hyperparametrs :\n",
    "batchsize=100\n",
    "epoch=10\n",
    "start_time = time.time() \n",
    "vae.fit(xtrain,xtrain,\n",
    "              batch_size=batchsize,\n",
    "              epochs=epoch,\n",
    "              verbose=1,\n",
    "              shuffle=True,\n",
    "              validation_data=(xtest,xtest),\n",
    "              callbacks=[TensorBoard(log_dir=\"../logs/Variationalautoencoder\")])\n",
    "print(\"--- %s seconds ---\" % (time.time() - start_time))    "
   ]
  },
  {
   "cell_type": "code",
   "execution_count": 48,
   "metadata": {},
   "outputs": [
    {
     "name": "stdout",
     "output_type": "stream",
     "text": [
      "The tensorboard extension is already loaded. To reload it, use:\n",
      "  %reload_ext tensorboard\n"
     ]
    },
    {
     "data": {
      "text/plain": [
       "Reusing TensorBoard on port 6006 (pid 26984), started 0:09:58 ago. (Use '!kill 26984' to kill it.)"
      ]
     },
     "metadata": {},
     "output_type": "display_data"
    },
    {
     "data": {
      "text/html": [
       "\n",
       "      <iframe id=\"tensorboard-frame-3b0b0cf5fe3af4ae\" width=\"100%\" height=\"800\" frameborder=\"0\">\n",
       "      </iframe>\n",
       "      <script>\n",
       "        (function() {\n",
       "          const frame = document.getElementById(\"tensorboard-frame-3b0b0cf5fe3af4ae\");\n",
       "          const url = new URL(\"/\", window.location);\n",
       "          url.port = 6006;\n",
       "          frame.src = url;\n",
       "        })();\n",
       "      </script>\n",
       "  "
      ],
      "text/plain": [
       "<IPython.core.display.HTML object>"
      ]
     },
     "metadata": {},
     "output_type": "display_data"
    }
   ],
   "source": [
    "%load_ext tensorboard\n",
    "%tensorboard --logdir {\"../logs/Variationalautoencoder/\"}"
   ]
  },
  {
   "cell_type": "markdown",
   "metadata": {},
   "source": [
    "### View the avrage length distribution of normal data"
   ]
  },
  {
   "cell_type": "code",
   "execution_count": 49,
   "metadata": {},
   "outputs": [
    {
     "data": {
      "image/png": "[encoded data removed]",
      "text/plain": [
       "<Figure size 1080x720 with 1 Axes>"
      ]
     },
     "metadata": {
      "needs_background": "light"
     },
     "output_type": "display_data"
    }
   ],
   "source": [
    "normal_data=df[df[\"Class\"]==0].drop(\"Class\",axis=1)\n",
    "y_pred=vae.predict(normal_data) \n",
    "y_dist=np.linalg.norm(normal_data-y_pred,axis=-1) \n",
    "\n",
    "plt.figure(figsize=(15,10))\n",
    "plt.hist(y_dist,bins=200)\n",
    "plt.xlabel(\"Normal Data Average Loss Length\")\n",
    "plt.ylabel(\"Number of data points\")\n",
    "plt.show()"
   ]
  },
  {
   "cell_type": "markdown",
   "metadata": {},
   "source": [
    "### View the avrage length distribution of anomalie data"
   ]
  },
  {
   "cell_type": "code",
   "execution_count": 50,
   "metadata": {},
   "outputs": [
    {
     "data": {
      "image/png": "[encoded data removed]",
      "text/plain": [
       "<Figure size 1080x720 with 1 Axes>"
      ]
     },
     "metadata": {
      "needs_background": "light"
     },
     "output_type": "display_data"
    }
   ],
   "source": [
    "anomalie_data=df[df[\"Class\"]==1].drop(\"Class\",axis=1)\n",
    "y_pred=vae.predict(anomalie_data) \n",
    "y_dist=np.linalg.norm(anomalie_data-y_pred,axis=-1)  \n",
    "plt.figure(figsize=(15,10))\n",
    "plt.hist(y_dist,bins=200)\n",
    "plt.xlabel(\"Anomaly DataAverage Loss Length\")\n",
    "plt.ylabel(\"Number of data points\")\n",
    "plt.show()"
   ]
  },
  {
   "cell_type": "markdown",
   "metadata": {},
   "source": [
    "### View the avrage length distribution of xtest data\n"
   ]
  },
  {
   "cell_type": "code",
   "execution_count": 51,
   "metadata": {},
   "outputs": [
    {
     "data": {
      "image/png": "[encoded data removed]",
      "text/plain": [
       "<Figure size 1080x720 with 1 Axes>"
      ]
     },
     "metadata": {
      "needs_background": "light"
     },
     "output_type": "display_data"
    }
   ],
   "source": [
    "y_pred=vae.predict(xtest) # predicter les nouvelles transactions \n",
    "y_dist=np.linalg.norm(xtest-y_pred,axis=-1) # calculer la distance entre la valeur reel et la valeur predicter \n",
    "plt.figure(figsize=(15,10))\n",
    "plt.hist(y_dist,bins=200)\n",
    "plt.xlabel(\"Anomaly DataAverage Loss Length\")\n",
    "plt.ylabel(\"Number of data points\")\n",
    "plt.show()"
   ]
  },
  {
   "cell_type": "code",
   "execution_count": 52,
   "metadata": {},
   "outputs": [],
   "source": [
    "def prediction(xtest):\n",
    "    threshold=0.25 # le maximu distance possible pour ne considere pas comme anomalie\n",
    "    start_time = time.time() \n",
    "    y_pred=vae.predict(xtest) # predicter les nouvelles transactions \n",
    "    print(\"--- %s seconds ---\" % (time.time() - start_time))    \n",
    "    y_dist=np.linalg.norm(xtest-y_pred,axis=-1) # calculer la distance entre la valeur reel et la valeur predicter \n",
    "    z=zip(y_dist >= threshold , y_dist)# retourner un tableau de True , False si ladistance superieur au threshold ou non \n",
    "    y_label=[]\n",
    "    error=[]\n",
    "# cree un array des 1 et 0 si anomaly ou non  \n",
    "    for idx ,(is_anomaly , y_dist) in enumerate(z):\n",
    "        if is_anomaly : # if the value is True : which mean the distance is sup then the threshold \n",
    "            y_label.append(1)\n",
    "        else:\n",
    "            y_label.append(0)\n",
    "        error.append(y_dist)\n",
    "    return y_label"
   ]
  },
  {
   "cell_type": "code",
   "execution_count": 53,
   "metadata": {},
   "outputs": [
    {
     "name": "stdout",
     "output_type": "stream",
     "text": [
      "--- 0.836510419845581 seconds ---\n"
     ]
    }
   ],
   "source": [
    "y_pred=prediction(xtest)"
   ]
  },
  {
   "cell_type": "code",
   "execution_count": 54,
   "metadata": {},
   "outputs": [
    {
     "name": "stdout",
     "output_type": "stream",
     "text": [
      "              precision    recall  f1-score   support\n",
      "\n",
      "         0.0       0.77      0.65      0.70      8052\n",
      "         1.0       0.94      0.97      0.95     47560\n",
      "\n",
      "    accuracy                           0.92     55612\n",
      "   macro avg       0.85      0.81      0.83     55612\n",
      "weighted avg       0.92      0.92      0.92     55612\n",
      "\n"
     ]
    }
   ],
   "source": [
    "print(classification_report(ytest,y_pred))"
   ]
  },
  {
   "cell_type": "code",
   "execution_count": 55,
   "metadata": {},
   "outputs": [
    {
     "name": "stdout",
     "output_type": "stream",
     "text": [
      "precision_score : 0.9163454205049532\n",
      "accuracy_score : 0.9203409336114508\n",
      "recall_score : 0.9203409336114508\n",
      "f1_score : 0.9174457106986269\n",
      "roc_auc_score : 0.8063115715051492\n",
      "True_positive : 45982, False_positive : 2852, True_negative : 5200, False_negative : 1578\n"
     ]
    }
   ],
   "source": [
    "print('precision_score : '+str(precision_score(ytest, y_pred, average='weighted')))\n",
    "print('accuracy_score : '+str(accuracy_score(ytest, y_pred)))\n",
    "print('recall_score : '+str(recall_score(ytest, y_pred, average='weighted')))\n",
    "print('f1_score : '+str(f1_score(ytest, y_pred, average='weighted')))\n",
    "print('roc_auc_score : '+str(roc_auc_score(ytest,y_pred))) # TruePositive,TrueNegative\n",
    "tn, fp, fn, tp = confusion_matrix(ytest, y_pred).ravel()\n",
    "print('True_positive : '+str(tp)+', False_positive : '+str(fp)+', True_negative : '+str(tn)+', False_negative : '+str(fn))"
   ]
  },
  {
   "cell_type": "code",
   "execution_count": 56,
   "metadata": {},
   "outputs": [],
   "source": [
    "viz=Visualization()"
   ]
  },
  {
   "cell_type": "code",
   "execution_count": 57,
   "metadata": {},
   "outputs": [
    {
     "data": {
      "image/png": "[encoded data removed]",
      "text/plain": [
       "<Figure size 1080x720 with 2 Axes>"
      ]
     },
     "metadata": {
      "needs_background": "light"
     },
     "output_type": "display_data"
    }
   ],
   "source": [
    "viz.drow_confusion_matrix(ytest,y_pred)"
   ]
  },
  {
   "cell_type": "code",
   "execution_count": 58,
   "metadata": {},
   "outputs": [],
   "source": [
    "vae.save(\"./models/vae.h5\")"
   ]
  },
  {
   "cell_type": "code",
   "execution_count": 40,
   "metadata": {},
   "outputs": [],
   "source": [
    "with open(\"./models/vae.pickle\",\"wb\") as f:\n",
    "        pickle.dump(vae,f)"
   ]
  },
  {
   "cell_type": "code",
   "execution_count": null,
   "metadata": {},
   "outputs": [],
   "source": []
  }
 ],
 "metadata": {
  "kernelspec": {
   "display_name": "myenv",
   "language": "python",
   "name": "myenv"
  },
  "language_info": {
   "codemirror_mode": {
    "name": "ipython",
    "version": 3
   },
   "file_extension": ".py",
   "mimetype": "text/x-python",
   "name": "python",
   "nbconvert_exporter": "python",
   "pygments_lexer": "ipython3",
   "version": "3.8.2"
  }
 },
 "nbformat": 4,
 "nbformat_minor": 4
}
