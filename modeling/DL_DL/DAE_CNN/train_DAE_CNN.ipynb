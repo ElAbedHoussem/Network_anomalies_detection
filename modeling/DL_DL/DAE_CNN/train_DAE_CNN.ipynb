{
 "cells": [
  {
   "cell_type": "code",
   "execution_count": 1,
   "metadata": {},
   "outputs": [
    {
     "name": "stderr",
     "output_type": "stream",
     "text": [
      "Using TensorFlow backend.\n"
     ]
    }
   ],
   "source": [
    "import keras \n",
    "from keras import optimizers,regularizers,losses\n",
    "from keras import losses\n",
    "from keras.models import Sequential,Model\n",
    "from keras.layers import Dense,Input,Dropout,Embedding,LSTM,Conv1D,Flatten,Activation,SpatialDropout1D,UpSampling1D,MaxPooling1D,ZeroPadding1D\n",
    "from keras.optimizers import RMSprop,Adam,Nadam\n",
    "from keras.preprocessing import sequence \n",
    "from keras.callbacks import TensorBoard,CSVLogger,ModelCheckpoint\n",
    "from keras.utils import to_categorical\n",
    "from keras.preprocessing import sequence \n",
    "from keras.callbacks import TensorBoard\n",
    "from keras.utils import plot_model\n",
    "from keras import optimizers, losses\n",
    "from keras.models import Sequential,Model\n",
    "from keras.layers import Dense,Input,Dropout,Embedding,concatenate\n",
    "from keras.optimizers import RMSprop,Adam,Nadam\n",
    "from keras.preprocessing import sequence \n",
    "from keras.callbacks import TensorBoard\n",
    "from keras.utils import plot_model\n",
    "from sklearn.metrics import accuracy_score,precision_score, recall_score, f1_score\n",
    "from sklearn.metrics import confusion_matrix,roc_auc_score,classification_report\n",
    "from sklearn.preprocessing import MinMaxScaler\n",
    "from sklearn.model_selection import train_test_split\n",
    "from sklearn.utils import shuffle\n",
    "import pickle\n",
    "import seaborn as sns\n",
    "import pandas as pd \n",
    "import numpy as np\n",
    "import matplotlib.pyplot as plt\n",
    "import keras\n",
    "import time \n",
    "import sys"
   ]
  },
  {
   "cell_type": "markdown",
   "metadata": {},
   "source": [
    "## Plot the confusion matrics"
   ]
  },
  {
   "cell_type": "code",
   "execution_count": 2,
   "metadata": {},
   "outputs": [],
   "source": [
    "# Visualisation class\n",
    "class Visualization:\n",
    "    \n",
    "    labels=[\"Normal\",\"Anomaly\"]\n",
    "    \n",
    "    def drow_confusion_matrix(self,y,ypred):\n",
    "        matrix=confusion_matrix(y,ypred)\n",
    "        plt.figure(figsize=(15,10))\n",
    "        colors=[\"indianred\",\"lightseagreen\"]\n",
    "        sns.heatmap(matrix,xticklabels=self.labels,yticklabels=self.labels,cmap=colors,annot=True,fmt=\"d\")\n",
    "        plt.title(\"confusion Matrix\")\n",
    "        plt.ylabel('Actual')\n",
    "        plt.xlabel(\"Predicted\")\n",
    "        plt.show()\n",
    "    \n",
    "    \n",
    "    def drow_anomaly(self,y,error,threshold):\n",
    "        groupsDF=pd.DataFrame({\n",
    "            \"error\":error,\n",
    "            \"true\":y\n",
    "        }).groupby(\"true\")\n",
    "        \n",
    "        figure , axes= plt.subplots(figsize=(12,8))\n",
    "        for name,group in groupsDF:\n",
    "            axes.plot(\n",
    "                      group.index,group.error,marker=\"x\" if name == 1 else \"o\",linestyle='',\n",
    "                      color='r' if name==1 else \"teal\" , label=\"Anomaly\" if name==1 else \"Normal\"\n",
    "                     )\n",
    "            \n",
    "        axes.hlines(threshold,axes.get_xlim()[0],axes.get_xlim()[1],color=\"b\",zorder=100,label='Thershold')\n",
    "        axes.legend()\n",
    "        plt.title(\"Anomalie\")\n",
    "        plt.xlabel(\"Data\")\n",
    "        plt.ylabel(\"Error\")\n",
    "        plt.show()\n",
    "            \n",
    "    \n",
    "    def drow_error(self,error,threshold):\n",
    "        plt.plot(error,marker=\"o\",ms=3.5,linestyle=\"\",label=\"Point\")\n",
    "        plt.hlines(threshold,xmin=0,xmax=len(error)-1,colors=\"b\",zorder=100,label=\"Threshold\")\n",
    "        plt.legend()\n",
    "        plt.title(\"Reconstruction Error\")\n",
    "        plt.ylabel(\"Error\")\n",
    "        plt.xlabel(\"Data\")\n",
    "        plt.show()\n",
    "        \n",
    "            "
   ]
  },
  {
   "cell_type": "code",
   "execution_count": 3,
   "metadata": {},
   "outputs": [
    {
     "data": {
      "text/html": [
       "<div>\n",
       "<style scoped>\n",
       "    .dataframe tbody tr th:only-of-type {\n",
       "        vertical-align: middle;\n",
       "    }\n",
       "\n",
       "    .dataframe tbody tr th {\n",
       "        vertical-align: top;\n",
       "    }\n",
       "\n",
       "    .dataframe thead th {\n",
       "        text-align: right;\n",
       "    }\n",
       "</style>\n",
       "<table border=\"1\" class=\"dataframe\">\n",
       "  <thead>\n",
       "    <tr style=\"text-align: right;\">\n",
       "      <th></th>\n",
       "      <th>MI_dir_L5_weight</th>\n",
       "      <th>MI_dir_L5_mean</th>\n",
       "      <th>MI_dir_L5_variance</th>\n",
       "      <th>MI_dir_L3_weight</th>\n",
       "      <th>MI_dir_L3_mean</th>\n",
       "      <th>MI_dir_L3_variance</th>\n",
       "      <th>MI_dir_L1_weight</th>\n",
       "      <th>MI_dir_L1_mean</th>\n",
       "      <th>MI_dir_L1_variance</th>\n",
       "      <th>MI_dir_L0.1_weight</th>\n",
       "      <th>...</th>\n",
       "      <th>HpHp_L0.1_covariance</th>\n",
       "      <th>HpHp_L0.1_pcc</th>\n",
       "      <th>HpHp_L0.01_weight</th>\n",
       "      <th>HpHp_L0.01_mean</th>\n",
       "      <th>HpHp_L0.01_std</th>\n",
       "      <th>HpHp_L0.01_magnitude</th>\n",
       "      <th>HpHp_L0.01_radius</th>\n",
       "      <th>HpHp_L0.01_covariance</th>\n",
       "      <th>HpHp_L0.01_pcc</th>\n",
       "      <th>Class</th>\n",
       "    </tr>\n",
       "  </thead>\n",
       "  <tbody>\n",
       "    <tr>\n",
       "      <th>0</th>\n",
       "      <td>1.000000</td>\n",
       "      <td>60.000000</td>\n",
       "      <td>0.000000</td>\n",
       "      <td>1.000000</td>\n",
       "      <td>60.000000</td>\n",
       "      <td>0.000000</td>\n",
       "      <td>1.000000</td>\n",
       "      <td>60.000000</td>\n",
       "      <td>0.000000</td>\n",
       "      <td>1.000000</td>\n",
       "      <td>...</td>\n",
       "      <td>0.0</td>\n",
       "      <td>0.0</td>\n",
       "      <td>1.000000</td>\n",
       "      <td>60.000000</td>\n",
       "      <td>0.000000</td>\n",
       "      <td>60.000000</td>\n",
       "      <td>0.000000</td>\n",
       "      <td>0.0</td>\n",
       "      <td>0.0</td>\n",
       "      <td>0</td>\n",
       "    </tr>\n",
       "    <tr>\n",
       "      <th>1</th>\n",
       "      <td>1.000000</td>\n",
       "      <td>354.000000</td>\n",
       "      <td>0.000000</td>\n",
       "      <td>1.000000</td>\n",
       "      <td>354.000000</td>\n",
       "      <td>0.000000</td>\n",
       "      <td>1.000000</td>\n",
       "      <td>354.000000</td>\n",
       "      <td>0.000000</td>\n",
       "      <td>1.000000</td>\n",
       "      <td>...</td>\n",
       "      <td>0.0</td>\n",
       "      <td>0.0</td>\n",
       "      <td>5.319895</td>\n",
       "      <td>344.262695</td>\n",
       "      <td>4.710446</td>\n",
       "      <td>344.262695</td>\n",
       "      <td>22.188299</td>\n",
       "      <td>0.0</td>\n",
       "      <td>0.0</td>\n",
       "      <td>0</td>\n",
       "    </tr>\n",
       "    <tr>\n",
       "      <th>2</th>\n",
       "      <td>1.857879</td>\n",
       "      <td>360.458980</td>\n",
       "      <td>35.789338</td>\n",
       "      <td>1.912127</td>\n",
       "      <td>360.275733</td>\n",
       "      <td>35.923972</td>\n",
       "      <td>1.969807</td>\n",
       "      <td>360.091968</td>\n",
       "      <td>35.991542</td>\n",
       "      <td>1.996939</td>\n",
       "      <td>...</td>\n",
       "      <td>0.0</td>\n",
       "      <td>0.0</td>\n",
       "      <td>6.318264</td>\n",
       "      <td>347.703087</td>\n",
       "      <td>9.034660</td>\n",
       "      <td>347.703087</td>\n",
       "      <td>81.625077</td>\n",
       "      <td>0.0</td>\n",
       "      <td>0.0</td>\n",
       "      <td>0</td>\n",
       "    </tr>\n",
       "    <tr>\n",
       "      <th>3</th>\n",
       "      <td>1.000000</td>\n",
       "      <td>337.000000</td>\n",
       "      <td>0.000000</td>\n",
       "      <td>1.000000</td>\n",
       "      <td>337.000000</td>\n",
       "      <td>0.000000</td>\n",
       "      <td>1.000000</td>\n",
       "      <td>337.000000</td>\n",
       "      <td>0.000000</td>\n",
       "      <td>1.000000</td>\n",
       "      <td>...</td>\n",
       "      <td>0.0</td>\n",
       "      <td>0.0</td>\n",
       "      <td>1.000000</td>\n",
       "      <td>337.000000</td>\n",
       "      <td>0.000000</td>\n",
       "      <td>337.000000</td>\n",
       "      <td>0.000000</td>\n",
       "      <td>0.0</td>\n",
       "      <td>0.0</td>\n",
       "      <td>0</td>\n",
       "    </tr>\n",
       "    <tr>\n",
       "      <th>4</th>\n",
       "      <td>1.680223</td>\n",
       "      <td>172.140917</td>\n",
       "      <td>18487.448750</td>\n",
       "      <td>1.793580</td>\n",
       "      <td>182.560279</td>\n",
       "      <td>18928.175300</td>\n",
       "      <td>1.925828</td>\n",
       "      <td>193.165753</td>\n",
       "      <td>19153.795810</td>\n",
       "      <td>1.992323</td>\n",
       "      <td>...</td>\n",
       "      <td>0.0</td>\n",
       "      <td>0.0</td>\n",
       "      <td>1.000000</td>\n",
       "      <td>60.000000</td>\n",
       "      <td>0.000000</td>\n",
       "      <td>60.000000</td>\n",
       "      <td>0.000000</td>\n",
       "      <td>0.0</td>\n",
       "      <td>0.0</td>\n",
       "      <td>0</td>\n",
       "    </tr>\n",
       "  </tbody>\n",
       "</table>\n",
       "<p>5 rows × 116 columns</p>\n",
       "</div>"
      ],
      "text/plain": [
       "   MI_dir_L5_weight  MI_dir_L5_mean  MI_dir_L5_variance  MI_dir_L3_weight  \\\n",
       "0          1.000000       60.000000            0.000000          1.000000   \n",
       "1          1.000000      354.000000            0.000000          1.000000   \n",
       "2          1.857879      360.458980           35.789338          1.912127   \n",
       "3          1.000000      337.000000            0.000000          1.000000   \n",
       "4          1.680223      172.140917        18487.448750          1.793580   \n",
       "\n",
       "   MI_dir_L3_mean  MI_dir_L3_variance  MI_dir_L1_weight  MI_dir_L1_mean  \\\n",
       "0       60.000000            0.000000          1.000000       60.000000   \n",
       "1      354.000000            0.000000          1.000000      354.000000   \n",
       "2      360.275733           35.923972          1.969807      360.091968   \n",
       "3      337.000000            0.000000          1.000000      337.000000   \n",
       "4      182.560279        18928.175300          1.925828      193.165753   \n",
       "\n",
       "   MI_dir_L1_variance  MI_dir_L0.1_weight  ...  HpHp_L0.1_covariance  \\\n",
       "0            0.000000            1.000000  ...                   0.0   \n",
       "1            0.000000            1.000000  ...                   0.0   \n",
       "2           35.991542            1.996939  ...                   0.0   \n",
       "3            0.000000            1.000000  ...                   0.0   \n",
       "4        19153.795810            1.992323  ...                   0.0   \n",
       "\n",
       "   HpHp_L0.1_pcc  HpHp_L0.01_weight  HpHp_L0.01_mean  HpHp_L0.01_std  \\\n",
       "0            0.0           1.000000        60.000000        0.000000   \n",
       "1            0.0           5.319895       344.262695        4.710446   \n",
       "2            0.0           6.318264       347.703087        9.034660   \n",
       "3            0.0           1.000000       337.000000        0.000000   \n",
       "4            0.0           1.000000        60.000000        0.000000   \n",
       "\n",
       "   HpHp_L0.01_magnitude  HpHp_L0.01_radius  HpHp_L0.01_covariance  \\\n",
       "0             60.000000           0.000000                    0.0   \n",
       "1            344.262695          22.188299                    0.0   \n",
       "2            347.703087          81.625077                    0.0   \n",
       "3            337.000000           0.000000                    0.0   \n",
       "4             60.000000           0.000000                    0.0   \n",
       "\n",
       "   HpHp_L0.01_pcc  Class  \n",
       "0             0.0      0  \n",
       "1             0.0      0  \n",
       "2             0.0      0  \n",
       "3             0.0      0  \n",
       "4             0.0      0  \n",
       "\n",
       "[5 rows x 116 columns]"
      ]
     },
     "execution_count": 3,
     "metadata": {},
     "output_type": "execute_result"
    }
   ],
   "source": [
    "df =pd.read_csv(\"../../../data/full_data_small_datased.csv\")\n",
    "df.head()"
   ]
  },
  {
   "cell_type": "code",
   "execution_count": 4,
   "metadata": {},
   "outputs": [],
   "source": [
    "def transformer_df(df):\n",
    "    dic={}\n",
    "    for c in df.columns :\n",
    "        if (df[c].dtype ==\"object\"):\n",
    "            encoder = LabelEncoder()\n",
    "            encoder.fit(df[c])\n",
    "            df[c]=encoder.transform(df[c])\n",
    "            dic[c]=encoder\n",
    "    with open(\"./models/LabelEncoders_dic.pickle\",\"wb\") as f:\n",
    "        pickle.dump(dic,f)\n",
    "    return df"
   ]
  },
  {
   "cell_type": "code",
   "execution_count": 5,
   "metadata": {},
   "outputs": [],
   "source": [
    "def shuffle_dataframe(df):\n",
    "    df = shuffle(df)\n",
    "    return df"
   ]
  },
  {
   "cell_type": "code",
   "execution_count": 6,
   "metadata": {},
   "outputs": [],
   "source": [
    "def normaliser_all_columns(df):\n",
    "    diction={}\n",
    "    \n",
    "    for c in df.columns :\n",
    "        scaler=MinMaxScaler(feature_range=(0,1)).fit(df[c].values.reshape(-1,1))\n",
    "        diction[c]=scaler        \n",
    "        df[c]=scaler.transform(df[c].values.reshape(-1,1))\n",
    "    with open(\"./models/MinMaxScalers_dic.pickle\",\"wb\") as f:\n",
    "        pickle.dump(diction,f)\n",
    "    return df"
   ]
  },
  {
   "cell_type": "code",
   "execution_count": 7,
   "metadata": {},
   "outputs": [],
   "source": [
    "df=transformer_df(df)\n",
    "df=normaliser_all_columns(df)\n",
    "df=shuffle_dataframe(df)"
   ]
  },
  {
   "cell_type": "code",
   "execution_count": 8,
   "metadata": {},
   "outputs": [],
   "source": [
    "xtrain,xtest,ytrain,ytest=train_test_split(df.drop(labels=[\"Class\"],axis=1),df[\"Class\"],test_size=0.2)"
   ]
  },
  {
   "cell_type": "code",
   "execution_count": 9,
   "metadata": {},
   "outputs": [],
   "source": [
    "def reshape_x_data_3d(xtrain):\n",
    "    return np.array(xtrain).reshape(xtrain.shape[0],xtrain.shape[1],1)\n",
    "\n",
    "def reshape_y_data_2d(ytrain):\n",
    "    return keras.utils.to_categorical(ytrain,2)"
   ]
  },
  {
   "cell_type": "code",
   "execution_count": 11,
   "metadata": {},
   "outputs": [],
   "source": [
    "def add_noise(xtrain,xtest,ytrain,ytest):\n",
    "    noise_factor=0.3\n",
    "    xtrain_noise=xtrain + noise_factor *np.random.normal(loc=0.0,scale=1.0,size=xtrain.shape)\n",
    "    xtest_noise=xtest + noise_factor *np.random.normal(loc=0.0,scale=1.0,size=xtest.shape)\n",
    "    ytrain_noise=ytrain + noise_factor *np.random.normal(loc=0.0,scale=1.0,size=ytrain.shape)\n",
    "    ytest_noise=ytest + noise_factor *np.random.normal(loc=0.0,scale=1.0,size=ytest.shape)\n",
    "    xtrain_noise=np.clip(xtrain_noise,0.,1.)\n",
    "    xtest_noise=np.clip(xtest_noise,0.,1.)\n",
    "    ytrain_noise=np.clip(ytrain_noise,0.,1.)\n",
    "    ytest_noise=np.clip(ytest_noise,0.,1.)\n",
    "    return xtrain_noise,xtest_noise,ytrain_noise,ytest_noise"
   ]
  },
  {
   "cell_type": "code",
   "execution_count": 12,
   "metadata": {},
   "outputs": [],
   "source": [
    "xtrain_noise,xtest_noise,ytrain_noise,ytest_noise=add_noise(xtrain,xtest,ytrain,ytest)"
   ]
  },
  {
   "cell_type": "code",
   "execution_count": 13,
   "metadata": {},
   "outputs": [],
   "source": [
    "def create_dae_cnn(input_dim):\n",
    "    '''\n",
    "    I) For the DAE we will have as number neurons fo each layer :\n",
    "        1) Encoder :\n",
    "            L1(input_dim), L2(input_dim/2), L3(input_dim/4), L4(input_dim/8), L5(10)\n",
    "        2) The bottleneck with be composed of 3 neurons : L6(3)\n",
    "        3) Decoder : \n",
    "            L6(10), L7(input_dim/8), L8(input_dim/4), L9(input_dim/2), L10(input_dim)\n",
    "    \n",
    "    II) For the mlp we will have as number neurons fo each layer :\n",
    "        L1(input_dim), L2(input_dim*2), L3(input_dim*4), L4(input_dim*5), L5(input_dim*4), L6(input_dim*2), L7(input_dim), L8(input_dim/2)     \n",
    "    \n",
    "    III) For the combination mlp_DAE we will have as number neurons fo each layer :\n",
    "        L1(output_DAE+output_mlp), L2\n",
    "    '''\n",
    "    \n",
    "    \n",
    "    ############################\n",
    "    #Define the DAE architecture\n",
    "    ############################\n",
    "    \n",
    "    dae_input=Input(shape=(input_dim,)) #Define the input layer\n",
    "    \n",
    "    encoded= Dense(units=int(input_dim),activation=\"tanh\")(dae_input) \n",
    "    encoded= Dense(units=int(input_dim/2),activation=\"tanh\")(encoded) \n",
    "    encoded= Dense(units=int(input_dim/4),activation=\"tanh\")(encoded)\n",
    "    encoded= Dense(units=int(input_dim/8),activation=\"tanh\")(encoded)\n",
    "    encoded= Dense(units=10,activation=\"tanh\")(encoded)\n",
    "    encoded= Dense(units=3,activation=\"tanh\")(encoded)\n",
    "    encoded= Dense(units=int(input_dim/8),activation=\"tanh\")(encoded)\n",
    "    decoded= Dense(units=int(input_dim/4),activation=\"tanh\")(encoded)\n",
    "    decoded= Dense(units=int(input_dim/2),activation=\"tanh\")(decoded)\n",
    "    decoded= Dense(units=input_dim,activation=\"tanh\")(decoded)\n",
    "    decoded= Dense(units=input_dim,activation=\"softmax\",name='decoded')(decoded) #softmax return a vector of probabilty describing the importance of each attribute \n",
    "\n",
    "    ############################\n",
    "    #Define the cnn architecture\n",
    "    ############################\n",
    "\n",
    "    input_shape=(input_dim,1)\n",
    "    \n",
    "    input_layer=Input(shape=(input_shape))\n",
    "    \n",
    "    #pairs of causal 1D convolutional layers and pooling layers comprising the encoding stage\n",
    "    \n",
    "    conv1=Conv1D(filters=int(input_shape[0]),kernel_size=2,dilation_rate=1,padding=\"causal\",strides=1,input_shape=input_shape,\n",
    "                kernel_regularizer=regularizers.l2(0.01),activation=\"relu\")(input_layer)\n",
    "    \n",
    "    pool_1=MaxPooling1D(pool_size=2,strides=2)(conv1)\n",
    "    \n",
    "    conv2=Conv1D(filters=int(input_shape[0]/2),kernel_size=2,dilation_rate=1,padding=\"causal\",strides=1,\n",
    "                kernel_regularizer=regularizers.l2(0.01),activation=\"relu\")(pool_1)\n",
    "    \n",
    "    pool_2=MaxPooling1D(pool_size=2,strides=3)(conv2)    \n",
    "    \n",
    "    conv3=Conv1D(filters=int(input_shape[0]/3),kernel_size=2,dilation_rate=1,padding=\"causal\",strides=1,\n",
    "                kernel_regularizer=regularizers.l2(0.01),activation=\"relu\")(pool_2)\n",
    "    \n",
    "    encoder=Dense(int(input_shape[0] / 6),activation=\"relu\")(conv3)\n",
    "    \n",
    "    ### Decoding Stage\n",
    "    \n",
    "    #paird of upsampling and casual 1D convolutional layers comprising the decoding stage\n",
    "    upsample1=UpSampling1D(size=3)(encoder)\n",
    "    \n",
    "    conv4=Conv1D(filters=int(input_shape[0]/3),kernel_size=2,dilation_rate=1,padding=\"causal\",strides=1,\n",
    "                kernel_regularizer=regularizers.l2(0.01),activation=\"relu\")(upsample1)\n",
    "    \n",
    "    upsample2=UpSampling1D(size=2)(conv4)\n",
    "    \n",
    "    conv5=Conv1D(filters=int(input_shape[0]/2),kernel_size=2,dilation_rate=1,padding=\"causal\",strides=1,\n",
    "                kernel_regularizer=regularizers.l2(0.01),activation=\"relu\")(upsample2)\n",
    "    \n",
    "    zeropad=ZeroPadding1D(padding=(0,1))(conv5)\n",
    "    \n",
    "    conv6=Conv1D(filters=int(input_shape[0]),kernel_size=2,dilation_rate=1,padding=\"causal\",strides=1,\n",
    "                kernel_regularizer=regularizers.l2(0.01),activation=\"relu\")(zeropad)\n",
    "    \n",
    "    \n",
    "    ## Output of decoding stage flattened and passed through softmax to make predictions\n",
    "    flat=Flatten()(conv6)\n",
    "    \n",
    "    output_layer=Dense(2,activation=\"softmax\")(flat)\n",
    "\n",
    "    ############################\n",
    "    #Define the concatenate layer\n",
    "    ############################\n",
    "\n",
    "    merge_layer = concatenate([output_layer, decoded])\n",
    "\n",
    "    ############################\n",
    "    #Define the rest of layers\n",
    "    ############################\n",
    "\n",
    "    combination = Dense(input_shape[0], activation='relu')(merge_layer)\n",
    "    combination = Dropout(0.1)(combination)\n",
    "    combination = Dense(int(input_shape[0]/4), activation='relu')(combination)\n",
    "    combination = Dropout(0.1)(combination)\n",
    "    combination = Dense(int(input_shape[0]/8), activation='relu')(combination)\n",
    "    combination = Dropout(0.1)(combination)\n",
    "    combination = Dense(int(input_shape[0]/16), activation='relu')(combination)\n",
    "    combination = Dropout(0.1)(combination)\n",
    "    combination = Dense(int(input_shape[0]/32), activation='relu')(combination)\n",
    "    combination = Dense(1, activation='sigmoid')(combination)\n",
    "\n",
    "\n",
    "\n",
    "    ############################\n",
    "    #Create, Compile and plot the model\n",
    "    ############################\n",
    "\n",
    "    dae_cnn = Model(inputs=[dae_input, input_layer], outputs=combination)\n",
    "    dae_cnn.compile(optimizer=RMSprop(),loss=\"mean_squared_error\",metrics=[\"mae\",\"accuracy\"])\n",
    "    plot_model(dae_cnn,to_file='dae_cnn.png',show_shapes=True)\n",
    "    \n",
    "    \n",
    "    return dae_cnn"
   ]
  },
  {
   "cell_type": "code",
   "execution_count": 14,
   "metadata": {},
   "outputs": [],
   "source": [
    "combination_model = create_dae_cnn(xtrain.shape[1])"
   ]
  },
  {
   "cell_type": "code",
   "execution_count": 15,
   "metadata": {
    "scrolled": true
   },
   "outputs": [
    {
     "name": "stdout",
     "output_type": "stream",
     "text": [
      "Model: \"model_1\"\n",
      "__________________________________________________________________________________________________\n",
      "Layer (type)                    Output Shape         Param #     Connected to                     \n",
      "==================================================================================================\n",
      "input_2 (InputLayer)            (None, 115, 1)       0                                            \n",
      "__________________________________________________________________________________________________\n",
      "conv1d_1 (Conv1D)               (None, 115, 115)     345         input_2[0][0]                    \n",
      "__________________________________________________________________________________________________\n",
      "max_pooling1d_1 (MaxPooling1D)  (None, 57, 115)      0           conv1d_1[0][0]                   \n",
      "__________________________________________________________________________________________________\n",
      "conv1d_2 (Conv1D)               (None, 57, 57)       13167       max_pooling1d_1[0][0]            \n",
      "__________________________________________________________________________________________________\n",
      "input_1 (InputLayer)            (None, 115)          0                                            \n",
      "__________________________________________________________________________________________________\n",
      "max_pooling1d_2 (MaxPooling1D)  (None, 19, 57)       0           conv1d_2[0][0]                   \n",
      "__________________________________________________________________________________________________\n",
      "dense_1 (Dense)                 (None, 115)          13340       input_1[0][0]                    \n",
      "__________________________________________________________________________________________________\n",
      "conv1d_3 (Conv1D)               (None, 19, 38)       4370        max_pooling1d_2[0][0]            \n",
      "__________________________________________________________________________________________________\n",
      "dense_2 (Dense)                 (None, 57)           6612        dense_1[0][0]                    \n",
      "__________________________________________________________________________________________________\n",
      "dense_11 (Dense)                (None, 19, 19)       741         conv1d_3[0][0]                   \n",
      "__________________________________________________________________________________________________\n",
      "dense_3 (Dense)                 (None, 28)           1624        dense_2[0][0]                    \n",
      "__________________________________________________________________________________________________\n",
      "up_sampling1d_1 (UpSampling1D)  (None, 57, 19)       0           dense_11[0][0]                   \n",
      "__________________________________________________________________________________________________\n",
      "dense_4 (Dense)                 (None, 14)           406         dense_3[0][0]                    \n",
      "__________________________________________________________________________________________________\n",
      "conv1d_4 (Conv1D)               (None, 57, 38)       1482        up_sampling1d_1[0][0]            \n",
      "__________________________________________________________________________________________________\n",
      "dense_5 (Dense)                 (None, 10)           150         dense_4[0][0]                    \n",
      "__________________________________________________________________________________________________\n",
      "up_sampling1d_2 (UpSampling1D)  (None, 114, 38)      0           conv1d_4[0][0]                   \n",
      "__________________________________________________________________________________________________\n",
      "dense_6 (Dense)                 (None, 3)            33          dense_5[0][0]                    \n",
      "__________________________________________________________________________________________________\n",
      "conv1d_5 (Conv1D)               (None, 114, 57)      4389        up_sampling1d_2[0][0]            \n",
      "__________________________________________________________________________________________________\n",
      "dense_7 (Dense)                 (None, 14)           56          dense_6[0][0]                    \n",
      "__________________________________________________________________________________________________\n",
      "zero_padding1d_1 (ZeroPadding1D (None, 115, 57)      0           conv1d_5[0][0]                   \n",
      "__________________________________________________________________________________________________\n",
      "dense_8 (Dense)                 (None, 28)           420         dense_7[0][0]                    \n",
      "__________________________________________________________________________________________________\n",
      "conv1d_6 (Conv1D)               (None, 115, 115)     13225       zero_padding1d_1[0][0]           \n",
      "__________________________________________________________________________________________________\n",
      "dense_9 (Dense)                 (None, 57)           1653        dense_8[0][0]                    \n",
      "__________________________________________________________________________________________________\n",
      "flatten_1 (Flatten)             (None, 13225)        0           conv1d_6[0][0]                   \n",
      "__________________________________________________________________________________________________\n",
      "dense_10 (Dense)                (None, 115)          6670        dense_9[0][0]                    \n",
      "__________________________________________________________________________________________________\n",
      "dense_12 (Dense)                (None, 2)            26452       flatten_1[0][0]                  \n",
      "__________________________________________________________________________________________________\n",
      "decoded (Dense)                 (None, 115)          13340       dense_10[0][0]                   \n",
      "__________________________________________________________________________________________________\n",
      "concatenate_1 (Concatenate)     (None, 117)          0           dense_12[0][0]                   \n",
      "                                                                 decoded[0][0]                    \n",
      "__________________________________________________________________________________________________\n",
      "dense_13 (Dense)                (None, 115)          13570       concatenate_1[0][0]              \n",
      "__________________________________________________________________________________________________\n",
      "dropout_1 (Dropout)             (None, 115)          0           dense_13[0][0]                   \n",
      "__________________________________________________________________________________________________\n",
      "dense_14 (Dense)                (None, 28)           3248        dropout_1[0][0]                  \n",
      "__________________________________________________________________________________________________\n",
      "dropout_2 (Dropout)             (None, 28)           0           dense_14[0][0]                   \n",
      "__________________________________________________________________________________________________\n",
      "dense_15 (Dense)                (None, 14)           406         dropout_2[0][0]                  \n",
      "__________________________________________________________________________________________________\n",
      "dropout_3 (Dropout)             (None, 14)           0           dense_15[0][0]                   \n",
      "__________________________________________________________________________________________________\n",
      "dense_16 (Dense)                (None, 7)            105         dropout_3[0][0]                  \n",
      "__________________________________________________________________________________________________\n",
      "dropout_4 (Dropout)             (None, 7)            0           dense_16[0][0]                   \n",
      "__________________________________________________________________________________________________\n",
      "dense_17 (Dense)                (None, 3)            24          dropout_4[0][0]                  \n",
      "__________________________________________________________________________________________________\n",
      "dense_18 (Dense)                (None, 1)            4           dense_17[0][0]                   \n",
      "==================================================================================================\n",
      "Total params: 125,832\n",
      "Trainable params: 125,832\n",
      "Non-trainable params: 0\n",
      "__________________________________________________________________________________________________\n"
     ]
    }
   ],
   "source": [
    "combination_model.summary()"
   ]
  },
  {
   "cell_type": "code",
   "execution_count": 20,
   "metadata": {
    "scrolled": true
   },
   "outputs": [
    {
     "name": "stdout",
     "output_type": "stream",
     "text": [
      "Train on 222448 samples, validate on 55612 samples\n",
      "Epoch 1/10\n",
      "222448/222448 [==============================] - 95s 426us/step - loss: 4.3950e-04 - mae: 5.5377e-04 - accuracy: 0.9997 - val_loss: 2.1545e-04 - val_mae: 1.2587e-04 - val_accuracy: 0.9999\n",
      "Epoch 2/10\n",
      "222448/222448 [==============================] - 96s 433us/step - loss: 4.2037e-04 - mae: 4.9902e-04 - accuracy: 0.9996 - val_loss: 2.3343e-04 - val_mae: 1.4385e-04 - val_accuracy: 0.9999\n",
      "Epoch 3/10\n",
      "222448/222448 [==============================] - 93s 419us/step - loss: 6.4225e-04 - mae: 6.6357e-04 - accuracy: 0.9994 - val_loss: 1.6150e-04 - val_mae: 7.1927e-05 - val_accuracy: 0.9999\n",
      "Epoch 4/10\n",
      "222448/222448 [==============================] - 94s 421us/step - loss: 4.9123e-04 - mae: 4.6358e-04 - accuracy: 0.9996 - val_loss: 1.4352e-04 - val_mae: 5.3945e-05 - val_accuracy: 0.9999\n",
      "Epoch 5/10\n",
      "222448/222448 [==============================] - 91s 408us/step - loss: 6.5614e-04 - mae: 6.0667e-04 - accuracy: 0.9994 - val_loss: 0.0048 - val_mae: 0.0047 - val_accuracy: 0.9953\n",
      "Epoch 6/10\n",
      "222448/222448 [==============================] - 90s 407us/step - loss: 7.6251e-04 - mae: 7.0475e-04 - accuracy: 0.9993 - val_loss: 4.3110e-04 - val_mae: 3.4159e-04 - val_accuracy: 0.9997\n",
      "Epoch 7/10\n",
      "222448/222448 [==============================] - 92s 412us/step - loss: 3.6231e-04 - mae: 2.9261e-04 - accuracy: 0.9997 - val_loss: 2.3343e-04 - val_mae: 1.4385e-04 - val_accuracy: 0.9999\n",
      "Epoch 8/10\n",
      "222448/222448 [==============================] - 96s 430us/step - loss: 4.7694e-04 - mae: 4.0839e-04 - accuracy: 0.9996 - val_loss: 1.6150e-04 - val_mae: 7.1927e-05 - val_accuracy: 0.9999\n",
      "Epoch 9/10\n",
      "222448/222448 [==============================] - 90s 405us/step - loss: 6.4387e-04 - mae: 5.7568e-04 - accuracy: 0.9994 - val_loss: 2.3343e-04 - val_mae: 1.4385e-04 - val_accuracy: 0.9999\n",
      "Epoch 10/10\n",
      "222448/222448 [==============================] - 102s 460us/step - loss: 3.6989e-04 - mae: 3.0010e-04 - accuracy: 0.9997 - val_loss: 1.6150e-04 - val_mae: 7.1927e-05 - val_accuracy: 0.9999\n",
      "--- 939.0794060230255 seconds ---\n"
     ]
    }
   ],
   "source": [
    "#hyperparametrs :\n",
    "batchsize=100\n",
    "epoch=10\n",
    "start_time = time.time() \n",
    "combination_model.fit([xtrain_noise,reshape_x_data_3d(xtrain)],ytrain,\n",
    "              batch_size=batchsize,\n",
    "              epochs=epoch,\n",
    "              verbose=1,\n",
    "              shuffle=True,\n",
    "              validation_data=([xtest_noise,reshape_x_data_3d(xtest)],ytest),\n",
    "              callbacks=[TensorBoard(log_dir=\"../logs/DAE_CNN\")])\n",
    "print(\"--- %s seconds ---\" % (time.time() - start_time))"
   ]
  },
  {
   "cell_type": "code",
   "execution_count": 21,
   "metadata": {},
   "outputs": [
    {
     "data": {
      "text/html": [
       "\n",
       "      <iframe id=\"tensorboard-frame-cf11114b70ac2ea6\" width=\"100%\" height=\"800\" frameborder=\"0\">\n",
       "      </iframe>\n",
       "      <script>\n",
       "        (function() {\n",
       "          const frame = document.getElementById(\"tensorboard-frame-cf11114b70ac2ea6\");\n",
       "          const url = new URL(\"/\", window.location);\n",
       "          url.port = 6011;\n",
       "          frame.src = url;\n",
       "        })();\n",
       "      </script>\n",
       "  "
      ],
      "text/plain": [
       "<IPython.core.display.HTML object>"
      ]
     },
     "metadata": {},
     "output_type": "display_data"
    }
   ],
   "source": [
    "%load_ext tensorboard\n",
    "%tensorboard --logdir {\"../logs/DAE_CNN/\"}"
   ]
  },
  {
   "cell_type": "markdown",
   "metadata": {},
   "source": [
    "## Test the model by usign the predict method"
   ]
  },
  {
   "cell_type": "code",
   "execution_count": 22,
   "metadata": {},
   "outputs": [
    {
     "name": "stdout",
     "output_type": "stream",
     "text": [
      "--- 8.123563766479492 seconds ---\n"
     ]
    }
   ],
   "source": [
    "start_time = time.time() \n",
    "y_pred=np.round(combination_model.predict([xtest,reshape_x_data_3d(xtest)])) # Predict\n",
    "print(\"--- %s seconds ---\" % (time.time() - start_time))"
   ]
  },
  {
   "cell_type": "markdown",
   "metadata": {},
   "source": [
    "## Get all possible metrics to evaluate the model"
   ]
  },
  {
   "cell_type": "code",
   "execution_count": 23,
   "metadata": {},
   "outputs": [
    {
     "name": "stdout",
     "output_type": "stream",
     "text": [
      "              precision    recall  f1-score   support\n",
      "\n",
      "         0.0       1.00      1.00      1.00      8173\n",
      "         1.0       1.00      1.00      1.00     47439\n",
      "\n",
      "    accuracy                           1.00     55612\n",
      "   macro avg       1.00      1.00      1.00     55612\n",
      "weighted avg       1.00      1.00      1.00     55612\n",
      "\n"
     ]
    }
   ],
   "source": [
    "print(classification_report(ytest,y_pred))"
   ]
  },
  {
   "cell_type": "code",
   "execution_count": 24,
   "metadata": {},
   "outputs": [
    {
     "name": "stdout",
     "output_type": "stream",
     "text": [
      "precision_score : 0.9999460746022941\n",
      "accuracy_score : 0.9999460548083148\n",
      "recall_score : 0.9999460548083148\n",
      "f1_score : 0.9999460589048292\n",
      "roc_auc_score : 0.9999683804464681\n",
      "True_positive : 47436, False_positive : 0, True_negative : 8173, False_negative : 3\n"
     ]
    }
   ],
   "source": [
    "print('precision_score : '+str(precision_score(ytest, y_pred, average='weighted')))\n",
    "print('accuracy_score : '+str(accuracy_score(ytest, y_pred)))\n",
    "print('recall_score : '+str(recall_score(ytest, y_pred, average='weighted')))\n",
    "print('f1_score : '+str(f1_score(ytest, y_pred, average='weighted')))\n",
    "print('roc_auc_score : '+str(roc_auc_score(ytest,y_pred))) # TruePositive,TrueNegative\n",
    "tn, fp, fn, tp = confusion_matrix(ytest, y_pred).ravel()\n",
    "print('True_positive : '+str(tp)+', False_positive : '+str(fp)+', True_negative : '+str(tn)+', False_negative : '+str(fn))"
   ]
  },
  {
   "cell_type": "code",
   "execution_count": 25,
   "metadata": {},
   "outputs": [],
   "source": [
    "viz=Visualization()"
   ]
  },
  {
   "cell_type": "code",
   "execution_count": 26,
   "metadata": {},
   "outputs": [
    {
     "data": {
      "image/png": "[encoded data removed]",
      "text/plain": [
       "<Figure size 1080x720 with 2 Axes>"
      ]
     },
     "metadata": {
      "needs_background": "light"
     },
     "output_type": "display_data"
    }
   ],
   "source": [
    "viz.drow_confusion_matrix(ytest,y_pred)"
   ]
  },
  {
   "cell_type": "markdown",
   "metadata": {},
   "source": [
    "## Save the model"
   ]
  },
  {
   "cell_type": "code",
   "execution_count": 28,
   "metadata": {},
   "outputs": [],
   "source": [
    "combination_model.save(\"./models/dae_cnn.h5\")"
   ]
  }
 ],
 "metadata": {
  "kernelspec": {
   "display_name": "myenv",
   "language": "python",
   "name": "myenv"
  },
  "language_info": {
   "codemirror_mode": {
    "name": "ipython",
    "version": 3
   },
   "file_extension": ".py",
   "mimetype": "text/x-python",
   "name": "python",
   "nbconvert_exporter": "python",
   "pygments_lexer": "ipython3",
   "version": "3.8.2"
  }
 },
 "nbformat": 4,
 "nbformat_minor": 4
}
