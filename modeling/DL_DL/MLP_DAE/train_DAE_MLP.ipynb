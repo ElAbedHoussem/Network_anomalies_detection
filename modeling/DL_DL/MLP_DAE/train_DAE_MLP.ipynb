{
 "cells": [
  {
   "cell_type": "code",
   "execution_count": 10,
   "metadata": {},
   "outputs": [],
   "source": [
    "from keras import optimizers, losses\n",
    "from keras.models import Sequential,Model\n",
    "from keras.layers import Dense,Input,Dropout,Embedding,concatenate\n",
    "from keras.optimizers import RMSprop,Adam,Nadam\n",
    "from keras.preprocessing import sequence \n",
    "from keras.callbacks import TensorBoard\n",
    "from keras.utils import plot_model\n",
    "\n",
    "from sklearn.metrics import accuracy_score,precision_score, recall_score, f1_score\n",
    "from sklearn.metrics import confusion_matrix,roc_auc_score,classification_report\n",
    "from sklearn.preprocessing import MinMaxScaler\n",
    "from sklearn.model_selection import train_test_split\n",
    "from sklearn.utils import shuffle\n",
    "import pickle \n",
    "\n",
    "import seaborn as sns\n",
    "import pandas as pd \n",
    "import numpy as np\n",
    "import matplotlib.pyplot as plt\n",
    "\n",
    "import time \n",
    "import sys"
   ]
  },
  {
   "cell_type": "code",
   "execution_count": 5,
   "metadata": {},
   "outputs": [],
   "source": [
    "# Visualisation class\n",
    "class Visualization:\n",
    "    \n",
    "    labels=[\"Normal\",\"Anomaly\"]\n",
    "    \n",
    "    def drow_confusion_matrix(self,y,ypred):\n",
    "        matrix=confusion_matrix(y,ypred)\n",
    "        plt.figure(figsize=(15,10))\n",
    "        colors=[\"indianred\",\"lightseagreen\"]\n",
    "        sns.heatmap(matrix,xticklabels=self.labels,yticklabels=self.labels,cmap=colors,annot=True,fmt=\"d\")\n",
    "        plt.title(\"confusion Matrix\")\n",
    "        plt.ylabel('Actual')\n",
    "        plt.xlabel(\"Predicted\")\n",
    "        plt.show()\n",
    "    \n",
    "    \n",
    "    def drow_anomaly(self,y,error,threshold):\n",
    "        groupsDF=pd.DataFrame({\n",
    "            \"error\":error,\n",
    "            \"true\":y\n",
    "        }).groupby(\"true\")\n",
    "        \n",
    "        figure , axes= plt.subplots(figsize=(12,8))\n",
    "        for name,group in groupsDF:\n",
    "            axes.plot(\n",
    "                      group.index,group.error,marker=\"x\" if name == 1 else \"o\",linestyle='',\n",
    "                      color='r' if name==1 else \"teal\" , label=\"Anomaly\" if name==1 else \"Normal\"\n",
    "                     )\n",
    "            \n",
    "        axes.hlines(threshold,axes.get_xlim()[0],axes.get_xlim()[1],color=\"b\",zorder=100,label='Thershold')\n",
    "        axes.legend()\n",
    "        plt.title(\"Anomalie\")\n",
    "        plt.xlabel(\"Data\")\n",
    "        plt.ylabel(\"Error\")\n",
    "        plt.show()\n",
    "            \n",
    "    \n",
    "    def drow_error(self,error,threshold):\n",
    "        plt.plot(error,marker=\"o\",ms=3.5,linestyle=\"\",label=\"Point\")\n",
    "        plt.hlines(threshold,xmin=0,xmax=len(error)-1,colors=\"b\",zorder=100,label=\"Threshold\")\n",
    "        plt.legend()\n",
    "        plt.title(\"Reconstruction Error\")\n",
    "        plt.ylabel(\"Error\")\n",
    "        plt.xlabel(\"Data\")\n",
    "        plt.show()\n",
    "        \n",
    "            "
   ]
  },
  {
   "cell_type": "code",
   "execution_count": 3,
   "metadata": {},
   "outputs": [
    {
     "data": {
      "text/html": [
       "<div>\n",
       "<style scoped>\n",
       "    .dataframe tbody tr th:only-of-type {\n",
       "        vertical-align: middle;\n",
       "    }\n",
       "\n",
       "    .dataframe tbody tr th {\n",
       "        vertical-align: top;\n",
       "    }\n",
       "\n",
       "    .dataframe thead th {\n",
       "        text-align: right;\n",
       "    }\n",
       "</style>\n",
       "<table border=\"1\" class=\"dataframe\">\n",
       "  <thead>\n",
       "    <tr style=\"text-align: right;\">\n",
       "      <th></th>\n",
       "      <th>MI_dir_L5_weight</th>\n",
       "      <th>MI_dir_L5_mean</th>\n",
       "      <th>MI_dir_L5_variance</th>\n",
       "      <th>MI_dir_L3_weight</th>\n",
       "      <th>MI_dir_L3_mean</th>\n",
       "      <th>MI_dir_L3_variance</th>\n",
       "      <th>MI_dir_L1_weight</th>\n",
       "      <th>MI_dir_L1_mean</th>\n",
       "      <th>MI_dir_L1_variance</th>\n",
       "      <th>MI_dir_L0.1_weight</th>\n",
       "      <th>...</th>\n",
       "      <th>HpHp_L0.1_covariance</th>\n",
       "      <th>HpHp_L0.1_pcc</th>\n",
       "      <th>HpHp_L0.01_weight</th>\n",
       "      <th>HpHp_L0.01_mean</th>\n",
       "      <th>HpHp_L0.01_std</th>\n",
       "      <th>HpHp_L0.01_magnitude</th>\n",
       "      <th>HpHp_L0.01_radius</th>\n",
       "      <th>HpHp_L0.01_covariance</th>\n",
       "      <th>HpHp_L0.01_pcc</th>\n",
       "      <th>Class</th>\n",
       "    </tr>\n",
       "  </thead>\n",
       "  <tbody>\n",
       "    <tr>\n",
       "      <th>0</th>\n",
       "      <td>1.000000</td>\n",
       "      <td>60.000000</td>\n",
       "      <td>0.000000</td>\n",
       "      <td>1.000000</td>\n",
       "      <td>60.000000</td>\n",
       "      <td>0.000000</td>\n",
       "      <td>1.000000</td>\n",
       "      <td>60.000000</td>\n",
       "      <td>0.000000</td>\n",
       "      <td>1.000000</td>\n",
       "      <td>...</td>\n",
       "      <td>0.0</td>\n",
       "      <td>0.0</td>\n",
       "      <td>1.000000</td>\n",
       "      <td>60.000000</td>\n",
       "      <td>0.000000</td>\n",
       "      <td>60.000000</td>\n",
       "      <td>0.000000</td>\n",
       "      <td>0.0</td>\n",
       "      <td>0.0</td>\n",
       "      <td>0</td>\n",
       "    </tr>\n",
       "    <tr>\n",
       "      <th>1</th>\n",
       "      <td>1.000000</td>\n",
       "      <td>354.000000</td>\n",
       "      <td>0.000000</td>\n",
       "      <td>1.000000</td>\n",
       "      <td>354.000000</td>\n",
       "      <td>0.000000</td>\n",
       "      <td>1.000000</td>\n",
       "      <td>354.000000</td>\n",
       "      <td>0.000000</td>\n",
       "      <td>1.000000</td>\n",
       "      <td>...</td>\n",
       "      <td>0.0</td>\n",
       "      <td>0.0</td>\n",
       "      <td>5.319895</td>\n",
       "      <td>344.262695</td>\n",
       "      <td>4.710446</td>\n",
       "      <td>344.262695</td>\n",
       "      <td>22.188299</td>\n",
       "      <td>0.0</td>\n",
       "      <td>0.0</td>\n",
       "      <td>0</td>\n",
       "    </tr>\n",
       "    <tr>\n",
       "      <th>2</th>\n",
       "      <td>1.857879</td>\n",
       "      <td>360.458980</td>\n",
       "      <td>35.789338</td>\n",
       "      <td>1.912127</td>\n",
       "      <td>360.275733</td>\n",
       "      <td>35.923972</td>\n",
       "      <td>1.969807</td>\n",
       "      <td>360.091968</td>\n",
       "      <td>35.991542</td>\n",
       "      <td>1.996939</td>\n",
       "      <td>...</td>\n",
       "      <td>0.0</td>\n",
       "      <td>0.0</td>\n",
       "      <td>6.318264</td>\n",
       "      <td>347.703087</td>\n",
       "      <td>9.034660</td>\n",
       "      <td>347.703087</td>\n",
       "      <td>81.625077</td>\n",
       "      <td>0.0</td>\n",
       "      <td>0.0</td>\n",
       "      <td>0</td>\n",
       "    </tr>\n",
       "    <tr>\n",
       "      <th>3</th>\n",
       "      <td>1.000000</td>\n",
       "      <td>337.000000</td>\n",
       "      <td>0.000000</td>\n",
       "      <td>1.000000</td>\n",
       "      <td>337.000000</td>\n",
       "      <td>0.000000</td>\n",
       "      <td>1.000000</td>\n",
       "      <td>337.000000</td>\n",
       "      <td>0.000000</td>\n",
       "      <td>1.000000</td>\n",
       "      <td>...</td>\n",
       "      <td>0.0</td>\n",
       "      <td>0.0</td>\n",
       "      <td>1.000000</td>\n",
       "      <td>337.000000</td>\n",
       "      <td>0.000000</td>\n",
       "      <td>337.000000</td>\n",
       "      <td>0.000000</td>\n",
       "      <td>0.0</td>\n",
       "      <td>0.0</td>\n",
       "      <td>0</td>\n",
       "    </tr>\n",
       "    <tr>\n",
       "      <th>4</th>\n",
       "      <td>1.680223</td>\n",
       "      <td>172.140917</td>\n",
       "      <td>18487.448750</td>\n",
       "      <td>1.793580</td>\n",
       "      <td>182.560279</td>\n",
       "      <td>18928.175300</td>\n",
       "      <td>1.925828</td>\n",
       "      <td>193.165753</td>\n",
       "      <td>19153.795810</td>\n",
       "      <td>1.992323</td>\n",
       "      <td>...</td>\n",
       "      <td>0.0</td>\n",
       "      <td>0.0</td>\n",
       "      <td>1.000000</td>\n",
       "      <td>60.000000</td>\n",
       "      <td>0.000000</td>\n",
       "      <td>60.000000</td>\n",
       "      <td>0.000000</td>\n",
       "      <td>0.0</td>\n",
       "      <td>0.0</td>\n",
       "      <td>0</td>\n",
       "    </tr>\n",
       "  </tbody>\n",
       "</table>\n",
       "<p>5 rows × 116 columns</p>\n",
       "</div>"
      ],
      "text/plain": [
       "   MI_dir_L5_weight  MI_dir_L5_mean  MI_dir_L5_variance  MI_dir_L3_weight  \\\n",
       "0          1.000000       60.000000            0.000000          1.000000   \n",
       "1          1.000000      354.000000            0.000000          1.000000   \n",
       "2          1.857879      360.458980           35.789338          1.912127   \n",
       "3          1.000000      337.000000            0.000000          1.000000   \n",
       "4          1.680223      172.140917        18487.448750          1.793580   \n",
       "\n",
       "   MI_dir_L3_mean  MI_dir_L3_variance  MI_dir_L1_weight  MI_dir_L1_mean  \\\n",
       "0       60.000000            0.000000          1.000000       60.000000   \n",
       "1      354.000000            0.000000          1.000000      354.000000   \n",
       "2      360.275733           35.923972          1.969807      360.091968   \n",
       "3      337.000000            0.000000          1.000000      337.000000   \n",
       "4      182.560279        18928.175300          1.925828      193.165753   \n",
       "\n",
       "   MI_dir_L1_variance  MI_dir_L0.1_weight  ...  HpHp_L0.1_covariance  \\\n",
       "0            0.000000            1.000000  ...                   0.0   \n",
       "1            0.000000            1.000000  ...                   0.0   \n",
       "2           35.991542            1.996939  ...                   0.0   \n",
       "3            0.000000            1.000000  ...                   0.0   \n",
       "4        19153.795810            1.992323  ...                   0.0   \n",
       "\n",
       "   HpHp_L0.1_pcc  HpHp_L0.01_weight  HpHp_L0.01_mean  HpHp_L0.01_std  \\\n",
       "0            0.0           1.000000        60.000000        0.000000   \n",
       "1            0.0           5.319895       344.262695        4.710446   \n",
       "2            0.0           6.318264       347.703087        9.034660   \n",
       "3            0.0           1.000000       337.000000        0.000000   \n",
       "4            0.0           1.000000        60.000000        0.000000   \n",
       "\n",
       "   HpHp_L0.01_magnitude  HpHp_L0.01_radius  HpHp_L0.01_covariance  \\\n",
       "0             60.000000           0.000000                    0.0   \n",
       "1            344.262695          22.188299                    0.0   \n",
       "2            347.703087          81.625077                    0.0   \n",
       "3            337.000000           0.000000                    0.0   \n",
       "4             60.000000           0.000000                    0.0   \n",
       "\n",
       "   HpHp_L0.01_pcc  Class  \n",
       "0             0.0      0  \n",
       "1             0.0      0  \n",
       "2             0.0      0  \n",
       "3             0.0      0  \n",
       "4             0.0      0  \n",
       "\n",
       "[5 rows x 116 columns]"
      ]
     },
     "execution_count": 3,
     "metadata": {},
     "output_type": "execute_result"
    }
   ],
   "source": [
    "df =pd.read_csv(\"../../../data/full_data_small_datased.csv\")\n",
    "df.head()"
   ]
  },
  {
   "cell_type": "code",
   "execution_count": 4,
   "metadata": {},
   "outputs": [
    {
     "data": {
      "text/plain": [
       "(40395, 237665)"
      ]
     },
     "execution_count": 4,
     "metadata": {},
     "output_type": "execute_result"
    }
   ],
   "source": [
    "len(df[df[\"Class\"]==0]),len(df[df[\"Class\"]==1])"
   ]
  },
  {
   "cell_type": "code",
   "execution_count": 11,
   "metadata": {},
   "outputs": [],
   "source": [
    "def transformer_df(df):\n",
    "    dic={}\n",
    "    for c in df.columns :\n",
    "        if (df[c].dtype ==\"object\"):\n",
    "            encoder = LabelEncoder()\n",
    "            encoder.fit(df[c])\n",
    "            df[c]=encoder.transform(df[c])\n",
    "            dic[c]=encoder\n",
    "    with open(\"./models/LabelEncoders_dic.pickle\",\"wb\") as f:\n",
    "        pickle.dump(dic,f)\n",
    "    return df"
   ]
  },
  {
   "cell_type": "code",
   "execution_count": 12,
   "metadata": {},
   "outputs": [],
   "source": [
    "def shuffle_dataframe(df):\n",
    "    df = shuffle(df)\n",
    "    return df"
   ]
  },
  {
   "cell_type": "code",
   "execution_count": 13,
   "metadata": {},
   "outputs": [],
   "source": [
    "def normaliser_all_columns(df):\n",
    "    diction={}\n",
    "    \n",
    "    for c in df.columns :\n",
    "        scaler=MinMaxScaler(feature_range=(0,1)).fit(df[c].values.reshape(-1,1))\n",
    "        diction[c]=scaler        \n",
    "        df[c]=scaler.transform(df[c].values.reshape(-1,1))\n",
    "    with open(\"./models/MinMaxScalers_dic.pickle\",\"wb\") as f:\n",
    "        pickle.dump(diction,f)\n",
    "    return df"
   ]
  },
  {
   "cell_type": "code",
   "execution_count": 14,
   "metadata": {},
   "outputs": [],
   "source": [
    "df=transformer_df(df)\n",
    "df=normaliser_all_columns(df)\n",
    "df=shuffle_dataframe(df)"
   ]
  },
  {
   "cell_type": "code",
   "execution_count": 15,
   "metadata": {},
   "outputs": [],
   "source": [
    "xtrain,xtest,ytrain,ytest=train_test_split(df.drop(labels=[\"Class\"],axis=1),df[\"Class\"],test_size=0.2)"
   ]
  },
  {
   "cell_type": "code",
   "execution_count": 16,
   "metadata": {},
   "outputs": [],
   "source": [
    "def add_noise(xtrain,xtest,ytrain,ytest):\n",
    "    noise_factor=0.3\n",
    "    xtrain_noise=xtrain + noise_factor *np.random.normal(loc=0.0,scale=1.0,size=xtrain.shape)\n",
    "    xtest_noise=xtest + noise_factor *np.random.normal(loc=0.0,scale=1.0,size=xtest.shape)\n",
    "    ytrain_noise=ytrain + noise_factor *np.random.normal(loc=0.0,scale=1.0,size=ytrain.shape)\n",
    "    ytest_noise=ytest + noise_factor *np.random.normal(loc=0.0,scale=1.0,size=ytest.shape)\n",
    "    xtrain_noise=np.clip(xtrain_noise,0.,1.)\n",
    "    xtest_noise=np.clip(xtest_noise,0.,1.)\n",
    "    ytrain_noise=np.clip(ytrain_noise,0.,1.)\n",
    "    ytest_noise=np.clip(ytest_noise,0.,1.)\n",
    "    return xtrain_noise,xtest_noise,ytrain_noise,ytest_noise"
   ]
  },
  {
   "cell_type": "code",
   "execution_count": 20,
   "metadata": {},
   "outputs": [],
   "source": [
    "xtrain_noise,xtest_noise,ytrain_noise,ytest_noise=add_noise(xtrain,xtest,ytrain,ytest)"
   ]
  },
  {
   "cell_type": "code",
   "execution_count": 17,
   "metadata": {},
   "outputs": [],
   "source": [
    "def create_mlp_dae(input_dim):\n",
    "    '''\n",
    "    I) For the DAE we will have as number neurons fo each layer :\n",
    "        1) Encoder :\n",
    "            L1(input_dim), L2(input_dim/2), L3(input_dim/4), L4(input_dim/8), L5(10)\n",
    "        2) The bottleneck with be composed of 3 neurons : L6(3)\n",
    "        3) Decoder : \n",
    "            L6(10), L7(input_dim/8), L8(input_dim/4), L9(input_dim/2), L10(input_dim)\n",
    "    \n",
    "    II) For the mlp we will have as number neurons fo each layer :\n",
    "        L1(input_dim), L2(input_dim*2), L3(input_dim*4), L4(input_dim*5), L5(input_dim*4), L6(input_dim*2), L7(input_dim), L8(input_dim/2)     \n",
    "    \n",
    "    III) For the combination mlp_DAE we will have as number neurons fo each layer :\n",
    "        L1(output_DAE+output_mlp), L2(input_dim/2), L3(input_dim/4), L4(input_dim/8), L5(input_dim/16), L6(input_dim/32), L7(1)\n",
    "    '''\n",
    "    \n",
    "    \n",
    "    ############################\n",
    "    #Define the DAE architecture\n",
    "    ############################\n",
    "    \n",
    "    dae_input=Input(shape=(input_dim,)) #Define the input layer\n",
    "    \n",
    "    encoded= Dense(units=input_dim,activation=\"tanh\")(dae_input) \n",
    "    encoded= Dense(units=int(input_dim/2),activation=\"tanh\")(encoded) \n",
    "    encoded= Dense(units=int(input_dim/4),activation=\"tanh\")(encoded)\n",
    "    encoded= Dense(units=int(input_dim/8),activation=\"tanh\")(encoded)\n",
    "    encoded= Dense(units=10,activation=\"tanh\")(encoded)\n",
    "    encoded= Dense(units=3,activation=\"tanh\")(encoded)\n",
    "    encoded= Dense(units=int(input_dim/8),activation=\"tanh\")(encoded)\n",
    "    decoded= Dense(units=int(input_dim/4),activation=\"tanh\")(encoded)\n",
    "    decoded= Dense(units=int(input_dim/2),activation=\"tanh\")(decoded)\n",
    "    decoded= Dense(units=input_dim,activation=\"tanh\")(decoded)\n",
    "    decoded= Dense(units=input_dim,activation=\"softmax\",name='decoded')(decoded) #softmax return a vector of probabilty describing the importance of each attribute \n",
    "\n",
    "    ############################\n",
    "    #Define the MLP architecture\n",
    "    ############################\n",
    "    \n",
    "    output_mlp = input_dim/2\n",
    "    mlp_input = Input(shape=(input_dim, ))\n",
    "    \n",
    "    mlp = Dense(input_dim, activation='relu')(mlp_input)\n",
    "    mlp = Dense(input_dim*2, activation='relu' )(mlp)\n",
    "    mlp = Dropout(0.1)(mlp)# To deactivate 10% of neurons, to avoid the overfitting\n",
    "    mlp = Dense(input_dim*4, activation='relu')(mlp)\n",
    "    mlp = Dropout(0.1)(mlp)\n",
    "    mlp = Dense(input_dim*5, activation='relu')(mlp)\n",
    "    mlp = Dropout(0.1)(mlp)\n",
    "    mlp = Dense(input_dim*4, activation='relu')(mlp)\n",
    "    mlp = Dropout(0.1)(mlp)\n",
    "    mlp = Dense(input_dim*2, activation='relu')(mlp)\n",
    "    mlp = Dropout(0.1)(mlp)\n",
    "    mlp = Dense(input_dim, activation='relu')(mlp)\n",
    "    mlp = Dropout(0.1)(mlp)\n",
    "    mlp = Dense(int(input_dim/2), activation='relu')(mlp)\n",
    "\n",
    "    ############################\n",
    "    #Define the concatenate layer\n",
    "    ############################\n",
    "\n",
    "    merge_layer = concatenate([mlp, decoded])\n",
    "\n",
    "    ############################\n",
    "    #Define the rest of layers\n",
    "    ############################\n",
    "\n",
    "    combination = Dense(int(input_dim+ output_mlp/2), activation='relu')(merge_layer)\n",
    "    combination = Dropout(0.1)(combination)\n",
    "    combination = Dense(int(input_dim+ output_mlp/4), activation='relu')(combination)\n",
    "    combination = Dropout(0.1)(combination)\n",
    "    combination = Dense(int(input_dim+ output_mlp/8), activation='relu')(combination)\n",
    "    combination = Dropout(0.1)(combination)\n",
    "    combination = Dense(int(input_dim+ output_mlp/16), activation='relu')(combination)\n",
    "    combination = Dropout(0.1)(combination)\n",
    "    combination = Dense(int(input_dim+ output_mlp/32), activation='relu')(combination)\n",
    "    combination = Dense(1, activation='sigmoid')(combination)\n",
    "\n",
    "    ############################\n",
    "    #Create, Compile and plot the model\n",
    "    ############################\n",
    "\n",
    "    mlp_dae = Model(inputs=[dae_input, mlp_input], outputs=combination)\n",
    "    mlp_dae.compile(optimizer=RMSprop(),loss=\"mean_squared_error\",metrics=[\"mae\"])\n",
    "    plot_model(mlp_dae,to_file='mlp_dae.png',show_shapes=True)\n",
    "    \n",
    "    \n",
    "    return mlp_dae"
   ]
  },
  {
   "cell_type": "code",
   "execution_count": 18,
   "metadata": {},
   "outputs": [],
   "source": [
    "cobinaison_model = create_mlp_dae(xtrain.shape[1])"
   ]
  },
  {
   "cell_type": "code",
   "execution_count": 21,
   "metadata": {},
   "outputs": [
    {
     "name": "stdout",
     "output_type": "stream",
     "text": [
      "Train on 222448 samples, validate on 55612 samples\n",
      "Epoch 1/10\n",
      "222448/222448 [==============================] - 122s 550us/step - loss: 0.0016 - mae: 0.0024 - val_loss: 3.6401e-05 - val_mae: 3.9194e-05\n",
      "Epoch 2/10\n",
      "222448/222448 [==============================] - 116s 521us/step - loss: 3.1229e-04 - mae: 3.4262e-04 - val_loss: 3.5963e-05 - val_mae: 3.5965e-05\n",
      "Epoch 3/10\n",
      "222448/222448 [==============================] - 114s 512us/step - loss: 4.5019e-05 - mae: 4.6276e-05 - val_loss: 7.0530e-05 - val_mae: 7.1220e-05\n",
      "Epoch 4/10\n",
      "222448/222448 [==============================] - 85s 382us/step - loss: 4.0633e-05 - mae: 4.1494e-05 - val_loss: 3.5963e-05 - val_mae: 3.5963e-05\n",
      "Epoch 5/10\n",
      "222448/222448 [==============================] - 86s 384us/step - loss: 4.0459e-05 - mae: 4.0459e-05 - val_loss: 3.5963e-05 - val_mae: 3.5963e-05\n",
      "Epoch 6/10\n",
      "222448/222448 [==============================] - 86s 388us/step - loss: 4.0459e-05 - mae: 4.0459e-05 - val_loss: 3.5963e-05 - val_mae: 3.5963e-05\n",
      "Epoch 7/10\n",
      "222448/222448 [==============================] - 84s 376us/step - loss: 4.0459e-05 - mae: 4.0459e-05 - val_loss: 3.5963e-05 - val_mae: 3.5963e-05\n",
      "Epoch 8/10\n",
      "222448/222448 [==============================] - 85s 383us/step - loss: 4.0459e-05 - mae: 4.0459e-05 - val_loss: 3.5963e-05 - val_mae: 3.5963e-05\n",
      "Epoch 9/10\n",
      "222448/222448 [==============================] - 88s 394us/step - loss: 4.0459e-05 - mae: 4.0459e-05 - val_loss: 3.5963e-05 - val_mae: 3.5963e-05\n",
      "Epoch 10/10\n",
      "222448/222448 [==============================] - 99s 444us/step - loss: 4.0458e-05 - mae: 4.0524e-05 - val_loss: 3.5962e-05 - val_mae: 3.5964e-05\n",
      "--- 966.4853746891022 seconds ---\n"
     ]
    }
   ],
   "source": [
    "#hyperparametrs :\n",
    "batchsize=100\n",
    "epoch=10\n",
    "start_time = time.time() \n",
    "cobinaison_model.fit([xtrain_noise,xtrain],ytrain,\n",
    "              batch_size=batchsize,\n",
    "              epochs=epoch,\n",
    "              verbose=1,\n",
    "              shuffle=True,\n",
    "              validation_data=([xtest_noise,xtest],ytest),\n",
    "              callbacks=[TensorBoard(log_dir=\"../logs/DAE_MLP\")])\n",
    "print(\"--- %s seconds ---\" % (time.time() - start_time))"
   ]
  },
  {
   "cell_type": "code",
   "execution_count": 22,
   "metadata": {},
   "outputs": [
    {
     "data": {
      "text/html": [
       "\n",
       "      <iframe id=\"tensorboard-frame-d7994daad3e9356e\" width=\"100%\" height=\"800\" frameborder=\"0\">\n",
       "      </iframe>\n",
       "      <script>\n",
       "        (function() {\n",
       "          const frame = document.getElementById(\"tensorboard-frame-d7994daad3e9356e\");\n",
       "          const url = new URL(\"/\", window.location);\n",
       "          url.port = 6010;\n",
       "          frame.src = url;\n",
       "        })();\n",
       "      </script>\n",
       "  "
      ],
      "text/plain": [
       "<IPython.core.display.HTML object>"
      ]
     },
     "metadata": {},
     "output_type": "display_data"
    }
   ],
   "source": [
    "%load_ext tensorboard\n",
    "%tensorboard --logdir {\"../logs/DAE_MLP/\"}"
   ]
  },
  {
   "cell_type": "markdown",
   "metadata": {},
   "source": [
    "## Test the model by usign the predict method"
   ]
  },
  {
   "cell_type": "code",
   "execution_count": 28,
   "metadata": {},
   "outputs": [
    {
     "name": "stdout",
     "output_type": "stream",
     "text": [
      "--- 9.407182931900024 seconds ---\n"
     ]
    }
   ],
   "source": [
    "start_time = time.time() \n",
    "y_pred=cobinaison_model.predict([xtest_noise,xtest_noise]) # Predict\n",
    "print(\"--- %s seconds ---\" % (time.time() - start_time))\n",
    "y_pred = np.round( y_pred)"
   ]
  },
  {
   "cell_type": "markdown",
   "metadata": {},
   "source": [
    "## Get all possible metrics to evaluate the model"
   ]
  },
  {
   "cell_type": "code",
   "execution_count": 35,
   "metadata": {},
   "outputs": [
    {
     "name": "stdout",
     "output_type": "stream",
     "text": [
      "              precision    recall  f1-score   support\n",
      "\n",
      "         0.0       1.00      1.00      1.00      8033\n",
      "         1.0       1.00      1.00      1.00     47579\n",
      "\n",
      "    accuracy                           1.00     55612\n",
      "   macro avg       1.00      1.00      1.00     55612\n",
      "weighted avg       1.00      1.00      1.00     55612\n",
      "\n"
     ]
    }
   ],
   "source": [
    "print(classification_report(ytest,y_pred))"
   ]
  },
  {
   "cell_type": "code",
   "execution_count": 36,
   "metadata": {},
   "outputs": [
    {
     "name": "stdout",
     "output_type": "stream",
     "text": [
      "precision_score : 0.9997124286011394\n",
      "accuracy_score : 0.999712292311012\n",
      "recall_score : 0.999712292311012\n",
      "f1_score : 0.9997123369435454\n",
      "roc_auc_score : 0.9995731865497016\n",
      "True_positive : 47568, False_positive : 5, True_negative : 8028, False_negative : 11\n"
     ]
    }
   ],
   "source": [
    "print('precision_score : '+str(precision_score(ytest, y_pred, average='weighted')))\n",
    "print('accuracy_score : '+str(accuracy_score(ytest, y_pred)))\n",
    "print('recall_score : '+str(recall_score(ytest, y_pred, average='weighted')))\n",
    "print('f1_score : '+str(f1_score(ytest, y_pred, average='weighted')))\n",
    "print('roc_auc_score : '+str(roc_auc_score(ytest,y_pred))) # TruePositive,TrueNegative\n",
    "tn, fp, fn, tp = confusion_matrix(ytest, y_pred).ravel()\n",
    "print('True_positive : '+str(tp)+', False_positive : '+str(fp)+', True_negative : '+str(tn)+', False_negative : '+str(fn))"
   ]
  },
  {
   "cell_type": "markdown",
   "metadata": {},
   "source": [
    "## Plot the confusion matrics"
   ]
  },
  {
   "cell_type": "code",
   "execution_count": 37,
   "metadata": {},
   "outputs": [],
   "source": [
    "viz=Visualization()"
   ]
  },
  {
   "cell_type": "code",
   "execution_count": 38,
   "metadata": {},
   "outputs": [
    {
     "data": {
      "image/png": "[encoded data removed]",
      "text/plain": [
       "<Figure size 1080x720 with 2 Axes>"
      ]
     },
     "metadata": {
      "needs_background": "light"
     },
     "output_type": "display_data"
    }
   ],
   "source": [
    "viz.drow_confusion_matrix(ytest,y_pred)"
   ]
  },
  {
   "cell_type": "markdown",
   "metadata": {},
   "source": [
    "## Save the model"
   ]
  },
  {
   "cell_type": "code",
   "execution_count": 39,
   "metadata": {},
   "outputs": [],
   "source": [
    "cobinaison_model.save(\"./models/mlp_dae.h5\")"
   ]
  }
 ],
 "metadata": {
  "kernelspec": {
   "display_name": "tf-gpu",
   "language": "python",
   "name": "tf-gpu"
  },
  "language_info": {
   "codemirror_mode": {
    "name": "ipython",
    "version": 3
   },
   "file_extension": ".py",
   "mimetype": "text/x-python",
   "name": "python",
   "nbconvert_exporter": "python",
   "pygments_lexer": "ipython3",
   "version": "3.6.10"
  }
 },
 "nbformat": 4,
 "nbformat_minor": 4
}
