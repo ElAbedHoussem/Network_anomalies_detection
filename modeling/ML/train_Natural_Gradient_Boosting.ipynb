{
 "cells": [
  {
   "cell_type": "code",
   "execution_count": 1,
   "metadata": {},
   "outputs": [],
   "source": [
    "import sklearn\n",
    "from sklearn.preprocessing import StandardScaler,MinMaxScaler\n",
    "import time \n",
    "from sklearn.metrics import accuracy_score,precision_score, recall_score, f1_score\n",
    "from sklearn.metrics import confusion_matrix,roc_auc_score,classification_report\n",
    "from sklearn.model_selection import train_test_split\n",
    "\n",
    "import seaborn as sns\n",
    "import pandas as pd \n",
    "import numpy as np\n",
    "import matplotlib.pyplot as plt\n",
    "\n",
    "import pickle\n",
    "from ngboost import NGBClassifier"
   ]
  },
  {
   "cell_type": "code",
   "execution_count": 2,
   "metadata": {},
   "outputs": [],
   "source": [
    "# Visualisation class\n",
    "class Visualization:\n",
    "    \n",
    "    labels=[\"Normal\",\"Anomaly\"]\n",
    "    \n",
    "    def drow_confusion_matrix(self,y,ypred):\n",
    "        matrix=confusion_matrix(y,ypred)\n",
    "        plt.figure(figsize=(15,10))\n",
    "        colors=[\"indianred\",\"lightseagreen\"]\n",
    "        sns.heatmap(matrix,xticklabels=self.labels,yticklabels=self.labels,cmap=colors,annot=True,fmt=\"d\")\n",
    "        plt.title(\"confusion Matrix\")\n",
    "        plt.ylabel('Actual')\n",
    "        plt.xlabel(\"Predicted\")\n",
    "        plt.show()\n",
    "    \n",
    "    \n",
    "    def drow_anomaly(self,y,error,threshold):\n",
    "        groupsDF=pd.DataFrame({\n",
    "            \"error\":error,\n",
    "            \"true\":y\n",
    "        }).groupby(\"true\")\n",
    "        \n",
    "        figure , axes= plt.subplots(figsize=(12,8))\n",
    "        for name,group in groupsDF:\n",
    "            axes.plot(\n",
    "                      group.index,group.error,marker=\"x\" if name == 1 else \"o\",linestyle='',\n",
    "                      color='r' if name==1 else \"teal\" , label=\"Anomaly\" if name==1 else \"Normal\"\n",
    "                     )\n",
    "            \n",
    "        axes.hlines(threshold,axes.get_xlim()[0],axes.get_xlim()[1],color=\"b\",zorder=100,label='Thershold')\n",
    "        axes.legend()\n",
    "        plt.title(\"Anomalie\")\n",
    "        plt.xlabel(\"Data\")\n",
    "        plt.ylabel(\"Error\")\n",
    "        plt.show()\n",
    "            \n",
    "    \n",
    "    def drow_error(self,error,threshold):\n",
    "        plt.plot(error,marker=\"o\",ms=3.5,linestyle=\"\",label=\"Point\")\n",
    "        plt.hlines(threshold,xmin=0,xmax=len(error)-1,colors=\"b\",zorder=100,label=\"Threshold\")\n",
    "        plt.legend()\n",
    "        plt.title(\"Reconstruction Error\")\n",
    "        plt.ylabel(\"Error\")\n",
    "        plt.xlabel(\"Data\")\n",
    "        plt.show()\n",
    "        \n",
    "            "
   ]
  },
  {
   "cell_type": "code",
   "execution_count": 3,
   "metadata": {},
   "outputs": [],
   "source": [
    "df =pd.read_csv(\"../../data/full_data_small_datased.csv\")"
   ]
  },
  {
   "cell_type": "code",
   "execution_count": 4,
   "metadata": {},
   "outputs": [],
   "source": [
    "def transformer_df(df):\n",
    "    dic={}\n",
    "    for c in df.columns :\n",
    "        if (df[c].dtype ==\"object\"):\n",
    "            encoder = LabelEncoder()\n",
    "            encoder.fit(df[c])\n",
    "            df[c]=encoder.transform(df[c])\n",
    "            dic[c]=encoder\n",
    "    with open(\"./models/LabelEncoders_dic.pickle\",\"wb\") as f:\n",
    "        pickle.dump(dic,f)\n",
    "    return df"
   ]
  },
  {
   "cell_type": "code",
   "execution_count": 5,
   "metadata": {},
   "outputs": [],
   "source": [
    "from sklearn.utils import shuffle\n",
    "def shuffle_dataframe(df):\n",
    "    df = shuffle(df)\n",
    "    return df"
   ]
  },
  {
   "cell_type": "code",
   "execution_count": 6,
   "metadata": {},
   "outputs": [],
   "source": [
    "def normaliser_all_columns(df):\n",
    "    diction={}\n",
    "    for c in df.columns :\n",
    "        scaler=MinMaxScaler(feature_range=(0,1)).fit(df[c].values.reshape(-1,1))\n",
    "        diction[c]=scaler        \n",
    "        df[c]=scaler.transform(df[c].values.reshape(-1,1))\n",
    "    with open(\"./models/MinMaxScalers_dic.pickle\",\"wb\") as f:\n",
    "        pickle.dump(diction,f)\n",
    "    return df"
   ]
  },
  {
   "cell_type": "code",
   "execution_count": 7,
   "metadata": {},
   "outputs": [],
   "source": [
    "df=transformer_df(df)\n",
    "df=normaliser_all_columns(df)\n",
    "df=shuffle_dataframe(df)"
   ]
  },
  {
   "cell_type": "code",
   "execution_count": 8,
   "metadata": {},
   "outputs": [],
   "source": [
    "xtrain,xtest,ytrain,ytest=train_test_split(df.drop(labels=[\"Class\"],axis=1),df[\"Class\"],test_size=0.2)"
   ]
  },
  {
   "cell_type": "code",
   "execution_count": 9,
   "metadata": {},
   "outputs": [],
   "source": [
    "ngb = NGBClassifier(verbose=1)"
   ]
  },
  {
   "cell_type": "code",
   "execution_count": 10,
   "metadata": {},
   "outputs": [],
   "source": [
    "ytrain=ytrain.apply(lambda x : int(x))"
   ]
  },
  {
   "cell_type": "code",
   "execution_count": 11,
   "metadata": {
    "scrolled": true
   },
   "outputs": [
    {
     "name": "stdout",
     "output_type": "stream",
     "text": [
      "[iter 0] loss=0.4147 val_loss=0.0000 scale=2.0000 norm=4.0000\n",
      "[iter 100] loss=0.0073 val_loss=0.0000 scale=4.0000 norm=4.0294\n",
      "[iter 200] loss=0.0001 val_loss=0.0000 scale=4.0000 norm=4.0005\n",
      "[iter 300] loss=0.0000 val_loss=0.0000 scale=4.0000 norm=4.0000\n",
      "[iter 400] loss=0.0000 val_loss=0.0000 scale=4.0000 norm=4.0000\n",
      "--- 1851.5886886119843 seconds ---\n"
     ]
    }
   ],
   "source": [
    "start_time = time.time() \n",
    "ngb = ngb.fit(xtrain.values,ytrain.values)\n",
    "print(\"--- %s seconds ---\" % (time.time() - start_time))    "
   ]
  },
  {
   "cell_type": "code",
   "execution_count": 12,
   "metadata": {},
   "outputs": [
    {
     "name": "stdout",
     "output_type": "stream",
     "text": [
      "--- 11.30872631072998 seconds ---\n"
     ]
    }
   ],
   "source": [
    "start_time = time.time() \n",
    "y_pred = ngb.predict(xtest.values)\n",
    "print(\"--- %s seconds ---\" % (time.time() - start_time))    "
   ]
  },
  {
   "cell_type": "code",
   "execution_count": 13,
   "metadata": {},
   "outputs": [
    {
     "name": "stdout",
     "output_type": "stream",
     "text": [
      "              precision    recall  f1-score   support\n",
      "\n",
      "         0.0       1.00      1.00      1.00      8045\n",
      "         1.0       1.00      1.00      1.00     47567\n",
      "\n",
      "    accuracy                           1.00     55612\n",
      "   macro avg       1.00      1.00      1.00     55612\n",
      "weighted avg       1.00      1.00      1.00     55612\n",
      "\n"
     ]
    }
   ],
   "source": [
    "print(classification_report(ytest.values,y_pred))"
   ]
  },
  {
   "cell_type": "code",
   "execution_count": 14,
   "metadata": {},
   "outputs": [
    {
     "name": "stdout",
     "output_type": "stream",
     "text": [
      "precision_score : 0.9999640380509311\n",
      "accuracy_score : 0.9999640365388766\n",
      "recall_score : 0.9999640365388766\n",
      "f1_score : 1.0\n",
      "roc_auc_score : 0.9998756991920448\n",
      "True_positive : 47567, False_positive : 2, True_negative : 8043, False_negative : 0\n"
     ]
    }
   ],
   "source": [
    "print('precision_score : '+str(precision_score(ytest.values, y_pred, average='weighted')))\n",
    "print('accuracy_score : '+str(accuracy_score(ytest.values, y_pred)))\n",
    "print('recall_score : '+str(recall_score(ytest.values, y_pred, average='weighted')))\n",
    "print('f1_score : '+str(f1_score(ytest, ytest.values, average='weighted')))\n",
    "print('roc_auc_score : '+str(roc_auc_score(ytest.values,y_pred))) # TruePositive,TrueNegative\n",
    "tn, fp, fn, tp = confusion_matrix(ytest.values, y_pred).ravel()\n",
    "print('True_positive : '+str(tp)+', False_positive : '+str(fp)+', True_negative : '+str(tn)+', False_negative : '+str(fn))"
   ]
  },
  {
   "cell_type": "code",
   "execution_count": 15,
   "metadata": {},
   "outputs": [],
   "source": [
    "viz=Visualization()"
   ]
  },
  {
   "cell_type": "code",
   "execution_count": 17,
   "metadata": {},
   "outputs": [
    {
     "data": {
      "image/png": "[encoded data removed]",
      "text/plain": [
       "<Figure size 1080x720 with 2 Axes>"
      ]
     },
     "metadata": {
      "needs_background": "light"
     },
     "output_type": "display_data"
    }
   ],
   "source": [
    "viz.drow_confusion_matrix(ytest.values,y_pred)"
   ]
  },
  {
   "cell_type": "code",
   "execution_count": 19,
   "metadata": {},
   "outputs": [],
   "source": [
    "pickle.dump(ngb, open('./models/ngb.pkl', 'wb'))"
   ]
  }
 ],
 "metadata": {
  "kernelspec": {
   "display_name": "tf-gpu",
   "language": "python",
   "name": "tf-gpu"
  },
  "language_info": {
   "codemirror_mode": {
    "name": "ipython",
    "version": 3
   },
   "file_extension": ".py",
   "mimetype": "text/x-python",
   "name": "python",
   "nbconvert_exporter": "python",
   "pygments_lexer": "ipython3",
   "version": "3.6.10"
  }
 },
 "nbformat": 4,
 "nbformat_minor": 4
}
