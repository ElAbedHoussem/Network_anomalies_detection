{
 "cells": [
  {
   "cell_type": "code",
   "execution_count": 3,
   "metadata": {},
   "outputs": [],
   "source": [
    "from xgboost import XGBClassifier\n",
    "import pandas as pd \n",
    "from sklearn.preprocessing import StandardScaler,MinMaxScaler\n",
    "from numpy import hstack\n",
    "from ngboost import NGBClassifier\n",
    "import pickle \n",
    "import pandas as pd\n",
    "import numpy as np"
   ]
  },
  {
   "cell_type": "code",
   "execution_count": 13,
   "metadata": {},
   "outputs": [],
   "source": [
    "with open(\"./models/LabelEncoders_dic.pickle\",\"rb\") as f:\n",
    "    encoder_dic=pickle.load(f)\n",
    "with open(\"./models/MinMaxScalers_dic.pickle\",\"rb\") as f:\n",
    "    scaler_dic=pickle.load(f)\n",
    "with open(\"./models/ngb.pkl\",\"rb\") as f:\n",
    "    model=pickle.load(f)"
   ]
  },
  {
   "cell_type": "code",
   "execution_count": 5,
   "metadata": {},
   "outputs": [],
   "source": [
    "def transformer_df(df):\n",
    "    for c in df.columns :\n",
    "        if (df[c].dtype ==\"object\"):\n",
    "            encoder = encoder_dic[c]\n",
    "            df[c]=encoder.transform(df[c])\n",
    "    return df"
   ]
  },
  {
   "cell_type": "code",
   "execution_count": 6,
   "metadata": {},
   "outputs": [],
   "source": [
    "def normaliser_all_columns(df):\n",
    "    for c in df.columns :\n",
    "        df[c]=scaler_dic[c].transform(df[c].values.reshape(-1,1))\n",
    "    return df"
   ]
  },
  {
   "cell_type": "code",
   "execution_count": 7,
   "metadata": {},
   "outputs": [],
   "source": [
    "df =pd.read_csv(\"../../data/full_data_small_datased.csv\")"
   ]
  },
  {
   "cell_type": "code",
   "execution_count": 22,
   "metadata": {},
   "outputs": [
    {
     "data": {
      "text/html": [
       "<div>\n",
       "<style scoped>\n",
       "    .dataframe tbody tr th:only-of-type {\n",
       "        vertical-align: middle;\n",
       "    }\n",
       "\n",
       "    .dataframe tbody tr th {\n",
       "        vertical-align: top;\n",
       "    }\n",
       "\n",
       "    .dataframe thead th {\n",
       "        text-align: right;\n",
       "    }\n",
       "</style>\n",
       "<table border=\"1\" class=\"dataframe\">\n",
       "  <thead>\n",
       "    <tr style=\"text-align: right;\">\n",
       "      <th></th>\n",
       "      <th>Class</th>\n",
       "      <th>HH_L0.01_covariance</th>\n",
       "      <th>HH_L0.01_magnitude</th>\n",
       "      <th>HH_L0.01_mean</th>\n",
       "      <th>HH_L0.01_pcc</th>\n",
       "      <th>HH_L0.01_radius</th>\n",
       "      <th>HH_L0.01_std</th>\n",
       "      <th>HH_L0.01_weight</th>\n",
       "      <th>HH_L0.1_covariance</th>\n",
       "      <th>HH_L0.1_magnitude</th>\n",
       "      <th>...</th>\n",
       "      <th>MI_dir_L0.1_weight</th>\n",
       "      <th>MI_dir_L1_mean</th>\n",
       "      <th>MI_dir_L1_variance</th>\n",
       "      <th>MI_dir_L1_weight</th>\n",
       "      <th>MI_dir_L3_mean</th>\n",
       "      <th>MI_dir_L3_variance</th>\n",
       "      <th>MI_dir_L3_weight</th>\n",
       "      <th>MI_dir_L5_mean</th>\n",
       "      <th>MI_dir_L5_variance</th>\n",
       "      <th>MI_dir_L5_weight</th>\n",
       "    </tr>\n",
       "  </thead>\n",
       "  <tbody>\n",
       "    <tr>\n",
       "      <th>0</th>\n",
       "      <td>0.0</td>\n",
       "      <td>0.0</td>\n",
       "      <td>60.0</td>\n",
       "      <td>60.0</td>\n",
       "      <td>0.0</td>\n",
       "      <td>0.0</td>\n",
       "      <td>0.0</td>\n",
       "      <td>1.0</td>\n",
       "      <td>0.0</td>\n",
       "      <td>60.0</td>\n",
       "      <td>...</td>\n",
       "      <td>1.0</td>\n",
       "      <td>60.0</td>\n",
       "      <td>0.0</td>\n",
       "      <td>1.0</td>\n",
       "      <td>60.0</td>\n",
       "      <td>0.0</td>\n",
       "      <td>1.0</td>\n",
       "      <td>60.0</td>\n",
       "      <td>0.0</td>\n",
       "      <td>1.0</td>\n",
       "    </tr>\n",
       "  </tbody>\n",
       "</table>\n",
       "<p>1 rows × 116 columns</p>\n",
       "</div>"
      ],
      "text/plain": [
       "   Class  HH_L0.01_covariance  HH_L0.01_magnitude  HH_L0.01_mean  \\\n",
       "0    0.0                  0.0                60.0           60.0   \n",
       "\n",
       "   HH_L0.01_pcc  HH_L0.01_radius  HH_L0.01_std  HH_L0.01_weight  \\\n",
       "0           0.0              0.0           0.0              1.0   \n",
       "\n",
       "   HH_L0.1_covariance  HH_L0.1_magnitude  ...  MI_dir_L0.1_weight  \\\n",
       "0                 0.0               60.0  ...                 1.0   \n",
       "\n",
       "   MI_dir_L1_mean  MI_dir_L1_variance  MI_dir_L1_weight  MI_dir_L3_mean  \\\n",
       "0            60.0                 0.0               1.0            60.0   \n",
       "\n",
       "   MI_dir_L3_variance  MI_dir_L3_weight  MI_dir_L5_mean  MI_dir_L5_variance  \\\n",
       "0                 0.0               1.0            60.0                 0.0   \n",
       "\n",
       "   MI_dir_L5_weight  \n",
       "0               1.0  \n",
       "\n",
       "[1 rows x 116 columns]"
      ]
     },
     "execution_count": 22,
     "metadata": {},
     "output_type": "execute_result"
    }
   ],
   "source": [
    "test_df = pd.DataFrame()\n",
    "test_df = test_df.append(df.iloc[0])\n",
    "test_df.head()"
   ]
  },
  {
   "cell_type": "code",
   "execution_count": 23,
   "metadata": {},
   "outputs": [],
   "source": [
    "target = test_df.Class"
   ]
  },
  {
   "cell_type": "code",
   "execution_count": 24,
   "metadata": {},
   "outputs": [],
   "source": [
    "x_test = test_df.drop(['Class'],axis=1)"
   ]
  },
  {
   "cell_type": "code",
   "execution_count": 25,
   "metadata": {},
   "outputs": [],
   "source": [
    "x_test=transformer_df(x_test)\n",
    "x_test=normaliser_all_columns(x_test)"
   ]
  },
  {
   "cell_type": "code",
   "execution_count": 26,
   "metadata": {
    "scrolled": true
   },
   "outputs": [],
   "source": [
    "y_pred=model.predict(x_test.values) "
   ]
  },
  {
   "cell_type": "code",
   "execution_count": 28,
   "metadata": {},
   "outputs": [
    {
     "data": {
      "text/plain": [
       "0"
      ]
     },
     "execution_count": 28,
     "metadata": {},
     "output_type": "execute_result"
    }
   ],
   "source": [
    "y_pred[0]"
   ]
  }
 ],
 "metadata": {
  "kernelspec": {
   "display_name": "myenv",
   "language": "python",
   "name": "myenv"
  },
  "language_info": {
   "codemirror_mode": {
    "name": "ipython",
    "version": 3
   },
   "file_extension": ".py",
   "mimetype": "text/x-python",
   "name": "python",
   "nbconvert_exporter": "python",
   "pygments_lexer": "ipython3",
   "version": "3.8.2"
  }
 },
 "nbformat": 4,
 "nbformat_minor": 4
}
