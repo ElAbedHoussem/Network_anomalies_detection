{
 "cells": [
  {
   "cell_type": "code",
   "execution_count": 21,
   "metadata": {},
   "outputs": [],
   "source": [
    "import pandas as pd\n",
    "import matplotlib.pyplot as plt\n",
    "import numpy as np\n",
    "import seaborn as sns"
   ]
  },
  {
   "cell_type": "code",
   "execution_count": 22,
   "metadata": {},
   "outputs": [],
   "source": [
    "data_dir = '../data/'"
   ]
  },
  {
   "cell_type": "code",
   "execution_count": 23,
   "metadata": {},
   "outputs": [],
   "source": [
    "def load_data(data_dir):\n",
    " \n",
    "    data = pd.read_csv(data_dir+\"benign_traffic.csv\")\n",
    "    data['Class']=0\n",
    "    print(data.shape)\n",
    "    udp = pd.read_csv(data_dir+\"mirai_attacks/udp.csv\")\n",
    "    udp['Class'] = 1\n",
    "    print(udp.shape)\n",
    "    frames = [data, udp]\n",
    "    result = pd.concat(frames, ignore_index=True)\n",
    " \n",
    "    #result.to_csv(data_dir+'full_data.csv')\n",
    "    return result  "
   ]
  },
  {
   "cell_type": "code",
   "execution_count": 24,
   "metadata": {},
   "outputs": [],
   "source": [
    "def show_data_dimensions(data):\n",
    "    print('number of rows : '+str(data.shape[0])+', number of columns : '+str(data.shape[1]))"
   ]
  },
  {
   "cell_type": "code",
   "execution_count": 25,
   "metadata": {},
   "outputs": [],
   "source": [
    "def data_preprocessing(original_data):\n",
    "\n",
    "    clean_data = original_data.copy()\n",
    "    ### drop duplicate rows\n",
    "    clean_data.drop_duplicates(keep='first', inplace=True)\n",
    "    ### fill missing data and drop the remaing\n",
    "    clean_data = clean_data.fillna(method='ffill')\n",
    "    clean_data.dropna(axis=0, inplace=True)\n",
    "    \n",
    "    return clean_data     "
   ]
  },
  {
   "cell_type": "code",
   "execution_count": 26,
   "metadata": {},
   "outputs": [],
   "source": [
    "def print_plots(full_data):\n",
    "    # Checking correlation\n",
    "    correlation = full_data.corr('pearson')\n",
    "    fig = plt.figure()\n",
    "    sns.heatamap(correlation)\n",
    "    plt.show()\n",
    "    fig = plt.figure()\n",
    "    sns.pairplot(full_data)\n",
    "    plt.show()"
   ]
  },
  {
   "cell_type": "code",
   "execution_count": 27,
   "metadata": {
    "scrolled": true
   },
   "outputs": [
    {
     "name": "stdout",
     "output_type": "stream",
     "text": [
      "(49548, 116)\n",
      "(237665, 116)\n"
     ]
    }
   ],
   "source": [
    "full_data = load_data(data_dir)"
   ]
  },
  {
   "cell_type": "code",
   "execution_count": 28,
   "metadata": {},
   "outputs": [
    {
     "name": "stdout",
     "output_type": "stream",
     "text": [
      "number of rows : 287213, number of columns : 116\n"
     ]
    }
   ],
   "source": [
    "show_data_dimensions(full_data)"
   ]
  },
  {
   "cell_type": "code",
   "execution_count": 29,
   "metadata": {},
   "outputs": [
    {
     "name": "stdout",
     "output_type": "stream",
     "text": [
      "length of data before pre-pross : 287213\n",
      "length of data after pre-pross : 278060\n"
     ]
    }
   ],
   "source": [
    "print(\"length of data before pre-pross : \"+str(len(full_data)))\n",
    "full_data = data_preprocessing(full_data)\n",
    "print(\"length of data after pre-pross : \"+str(len(full_data)))"
   ]
  },
  {
   "cell_type": "code",
   "execution_count": 30,
   "metadata": {},
   "outputs": [],
   "source": [
    "full_data.to_csv(data_dir+'full_data_small_datased.csv', index=False)"
   ]
  }
 ],
 "metadata": {
  "kernelspec": {
   "display_name": "tf-gpu",
   "language": "python",
   "name": "tf-gpu"
  },
  "language_info": {
   "codemirror_mode": {
    "name": "ipython",
    "version": 3
   },
   "file_extension": ".py",
   "mimetype": "text/x-python",
   "name": "python",
   "nbconvert_exporter": "python",
   "pygments_lexer": "ipython3",
   "version": "3.6.10"
  }
 },
 "nbformat": 4,
 "nbformat_minor": 4
}
