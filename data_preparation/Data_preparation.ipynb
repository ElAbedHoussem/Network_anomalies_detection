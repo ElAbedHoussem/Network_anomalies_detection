{
 "cells": [
  {
   "cell_type": "code",
   "execution_count": 1,
   "metadata": {},
   "outputs": [],
   "source": [
    "import pandas as pd\n",
    "import matplotlib.pyplot as plt\n",
    "import numpy as np\n",
    "import seaborn as sns"
   ]
  },
  {
   "cell_type": "code",
   "execution_count": 2,
   "metadata": {},
   "outputs": [],
   "source": [
    "data_dir = './data/'"
   ]
  },
  {
   "cell_type": "code",
   "execution_count": 6,
   "metadata": {},
   "outputs": [],
   "source": [
    "def load_data(data_dir):\n",
    " \n",
    "    data = pd.read_csv(data_dir+\"benign_traffic.csv\")\n",
    "    data['Class']=0\n",
    "    udp = pd.read_csv(data_dir+\"mirai_attacks/udp.csv\")\n",
    "    udp['Class'] = 1\n",
    "    ack = pd.read_csv(data_dir+\"mirai_attacks/ack.csv\")\n",
    "    ack['Class'] = 1\n",
    "    scan = pd.read_csv(data_dir+\"mirai_attacks/scan.csv\")\n",
    "    scan['Class'] = 1\n",
    "    syn = pd.read_csv(data_dir+\"mirai_attacks/syn.csv\")\n",
    "    syn['Class'] = 1\n",
    "    udpplain = pd.read_csv(data_dir+\"mirai_attacks/udpplain.csv\")\n",
    "    udpplain['Class'] = 1\n",
    "    g_combo = pd.read_csv(data_dir+\"gafgyt_attacks/combo.csv\")\n",
    "    g_combo['Class'] = 1\n",
    "    g_junk = pd.read_csv(data_dir+\"gafgyt_attacks/junk.csv\")\n",
    "    g_junk['Class'] = 1\n",
    "    g_scan = pd.read_csv(data_dir+\"gafgyt_attacks/scan.csv\")\n",
    "    g_scan['Class'] = 1\n",
    "    g_tcp = pd.read_csv(data_dir+\"gafgyt_attacks/tcp.csv\")\n",
    "    g_tcp['Class'] = 1\n",
    "    g_udp = pd.read_csv(data_dir+\"gafgyt_attacks/udp.csv\")\n",
    "    g_udp['Class'] = 1\n",
    " \n",
    "    frames = [data, udp, ack, scan, syn, udpplain,g_combo, g_junk, g_scan, g_tcp, g_udp]\n",
    "    result = pd.concat(frames, ignore_index=True)\n",
    " \n",
    "    #result.to_csv(data_dir+'full_data.csv')\n",
    "    return result  "
   ]
  },
  {
   "cell_type": "code",
   "execution_count": 7,
   "metadata": {},
   "outputs": [],
   "source": [
    "def show_data_dimensions(data):\n",
    "    print('number of rows : '+str(data.shape[0])+', number of columns : '+str(data.shape[1]))"
   ]
  },
  {
   "cell_type": "code",
   "execution_count": 8,
   "metadata": {},
   "outputs": [],
   "source": [
    "def data_preprocessing(original_data):\n",
    "\n",
    "    clean_data = original_data.copy()\n",
    "    ### drop duplicate rows\n",
    "    clean_data.drop_duplicates(keep='first', inplace=True)\n",
    "    ### fill missing data and drop the remaing\n",
    "    clean_data = clean_data.fillna(method='ffill')\n",
    "    clean_data.dropna(axis=0, inplace=True)\n",
    "    \n",
    "    return clean_data     "
   ]
  },
  {
   "cell_type": "code",
   "execution_count": null,
   "metadata": {},
   "outputs": [],
   "source": [
    "def print_plots(full_data):\n",
    "    # Checking correlation\n",
    "    correlation = full_data.corr('pearson')\n",
    "    fig = plt.figure()\n",
    "    sns.heatamap(correlation)\n",
    "    plt.show()\n",
    "    fig = plt.figure()\n",
    "    sns.pairplot(full_data)\n",
    "    plt.show()"
   ]
  },
  {
   "cell_type": "code",
   "execution_count": 9,
   "metadata": {
    "scrolled": true
   },
   "outputs": [],
   "source": [
    "full_data = load_data(data_dir)"
   ]
  },
  {
   "cell_type": "code",
   "execution_count": 11,
   "metadata": {},
   "outputs": [
    {
     "name": "stdout",
     "output_type": "stream",
     "text": [
      "number of rows : 1018298, number of columns : 116\n"
     ]
    }
   ],
   "source": [
    "show_data_dimensions(full_data)"
   ]
  },
  {
   "cell_type": "code",
   "execution_count": 13,
   "metadata": {},
   "outputs": [
    {
     "name": "stdout",
     "output_type": "stream",
     "text": [
      "length of data after pre-pross : 1018298\n",
      "length of data after pre-pross : 996539\n"
     ]
    }
   ],
   "source": [
    "print(\"length of data after pre-pross : \"+str(len(full_data)))\n",
    "full_data = data_preprocessing(full_data)\n",
    "print(\"length of data after pre-pross : \"+str(len(full_data)))"
   ]
  },
  {
   "cell_type": "code",
   "execution_count": null,
   "metadata": {},
   "outputs": [],
   "source": [
    "full_data.to_csv(data_dir+'full_data.csv')"
   ]
  },
  {
   "cell_type": "code",
   "execution_count": null,
   "metadata": {},
   "outputs": [],
   "source": []
  }
 ],
 "metadata": {
  "kernelspec": {
   "display_name": "tf-gpu",
   "language": "python",
   "name": "tf-gpu"
  },
  "language_info": {
   "codemirror_mode": {
    "name": "ipython",
    "version": 3
   },
   "file_extension": ".py",
   "mimetype": "text/x-python",
   "name": "python",
   "nbconvert_exporter": "python",
   "pygments_lexer": "ipython3",
   "version": "3.6.10"
  }
 },
 "nbformat": 4,
 "nbformat_minor": 4
}
